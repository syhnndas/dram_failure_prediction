{
 "cells": [
  {
   "cell_type": "code",
   "execution_count": 1,
   "id": "500237e0-7836-4cc1-a486-7c12596414e5",
   "metadata": {
    "tags": []
   },
   "outputs": [],
   "source": [
    "import pandas as pd \n",
    "import numpy as np\n",
    "from tqdm import tqdm\n",
    "import ctypes\n",
    "import multiprocessing\n",
    "from multiprocessing import Process, Manager, cpu_count"
   ]
  },
  {
   "cell_type": "code",
   "execution_count": 2,
   "id": "eb937ed2-61b1-40d3-b1c2-147aaee15004",
   "metadata": {
    "tags": []
   },
   "outputs": [
    {
     "name": "stdout",
     "output_type": "stream",
     "text": [
      "                   sid  memoryid  rankid  bankid     row  col  error_type  \\\n",
      "0             Server_1        10       1      13    3334  808           2   \n",
      "1             Server_1        10       1      13    3334  808           2   \n",
      "2             Server_1        10       1      13    3334  808           2   \n",
      "3             Server_1        10       1      13    3334  808           2   \n",
      "4             Server_1        10       1      13    3334  808           2   \n",
      "...                ...       ...     ...     ...     ...  ...         ...   \n",
      "75214687  Server_30500        16       0       8   51199  576           2   \n",
      "75214688  Server_30501         0       0      12  109213  592           2   \n",
      "75214689  Server_30502        20       1       7  120731  624           2   \n",
      "75214690  Server_30502        20       1       7  120731  624           2   \n",
      "75214691  Server_30502        20       1       7  120731  624           2   \n",
      "\n",
      "                   error_time  \n",
      "0         0001-06-14 06:40:59  \n",
      "1         0001-06-19 04:07:39  \n",
      "2         0001-06-26 00:32:58  \n",
      "3         0001-07-06 18:24:57  \n",
      "4         0001-07-07 17:54:17  \n",
      "...                       ...  \n",
      "75214687  0001-06-25 03:26:31  \n",
      "75214688  0001-08-15 15:19:32  \n",
      "75214689  0001-08-29 10:33:57  \n",
      "75214690  0001-08-30 10:20:12  \n",
      "75214691  0001-08-31 10:06:27  \n",
      "\n",
      "[75214692 rows x 8 columns]\n"
     ]
    }
   ],
   "source": [
    "## 读取原始csv\n",
    "data_raw = pd.read_csv(\"/home/anichikage/workspace/dram/dram-failure-prediction/data/raw/ali/mcelog.csv\")\n",
    "print(data_raw)"
   ]
  },
  {
   "cell_type": "code",
   "execution_count": 3,
   "id": "21a27265-e125-4668-9c4c-c8b5e5ead0a8",
   "metadata": {
    "tags": []
   },
   "outputs": [
    {
     "name": "stdout",
     "output_type": "stream",
     "text": [
      "30502\n"
     ]
    }
   ],
   "source": [
    "grouped = data_raw.groupby('sid') # 按sid将Excel分组\n",
    "print(len(grouped))"
   ]
  },
  {
   "cell_type": "code",
   "execution_count": 4,
   "id": "e5131ba2-c2a1-41da-b1d0-dea3bf9aaa27",
   "metadata": {
    "tags": []
   },
   "outputs": [
    {
     "name": "stdout",
     "output_type": "stream",
     "text": [
      "             sid  memoryid  rankid  bankid    row  col  error_type  \\\n",
      "23506  Server_40        20       1       9  71065  880           2   \n",
      "23507  Server_40        20       1       9  71065  880           2   \n",
      "23508  Server_40        20       1       9  71065  880           2   \n",
      "23509  Server_40        20       1       9  71065  880           2   \n",
      "23510  Server_40        20       1       9  71065  880           2   \n",
      "...          ...       ...     ...     ...    ...  ...         ...   \n",
      "23747  Server_40        20       1       9  71065  880           2   \n",
      "23748  Server_40        20       1       9  71065  880           2   \n",
      "23749  Server_40        20       1       9  71065  880           2   \n",
      "23750  Server_40        20       1       9  71065  880           2   \n",
      "23751  Server_40        20       1       9  71065  880           2   \n",
      "\n",
      "                error_time  \n",
      "23506  0001-01-01 06:01:58  \n",
      "23507  0001-01-02 05:34:37  \n",
      "23508  0001-01-03 05:07:16  \n",
      "23509  0001-01-04 04:39:55  \n",
      "23510  0001-01-05 04:12:34  \n",
      "...                    ...  \n",
      "23747  0001-08-27 14:48:23  \n",
      "23748  0001-08-28 14:21:02  \n",
      "23749  0001-08-29 13:53:41  \n",
      "23750  0001-08-30 13:26:20  \n",
      "23751  0001-08-31 12:58:59  \n",
      "\n",
      "[246 rows x 8 columns]\n"
     ]
    }
   ],
   "source": [
    "## 获取第一个分组\n",
    "group_one = grouped.get_group(\"Server_40\")\n",
    "print(group_one)"
   ]
  },
  {
   "cell_type": "code",
   "execution_count": 5,
   "id": "8b948c26-b089-4ae5-93f9-b2298d8205c1",
   "metadata": {
    "tags": []
   },
   "outputs": [],
   "source": [
    "# 原数据中最大的bankid row col\n",
    "max_bank = 16 # 0~15\n",
    "max_row = 131072 # 0~131071\n",
    "max_col = 1017 # 0~1016"
   ]
  },
  {
   "cell_type": "code",
   "execution_count": 6,
   "id": "e4f28fd9-f0be-43d0-835e-0d1db43ee93b",
   "metadata": {
    "tags": []
   },
   "outputs": [],
   "source": [
    "rows_per_block = 4096  # 行压缩块大小为 4096\n",
    "cols_per_block = 64    # 列压缩块大小为 64"
   ]
  },
  {
   "cell_type": "code",
   "execution_count": 7,
   "id": "f3307acb-b09f-4048-8e10-4c6b03b51e09",
   "metadata": {
    "tags": []
   },
   "outputs": [],
   "source": [
    "## 将bank,row ,col存入一个大矩阵，再压缩成16x32x16\n",
    "def process_group(group_one):\n",
    "    matrix_one = np.zeros((max_bank, max_row, max_col))\n",
    "    for _ , pos in group_one.iterrows():\n",
    "        bank_index = pos[\"bankid\"]\n",
    "        row_index = pos[\"row\"]\n",
    "        col_index = pos[\"col\"]\n",
    "\n",
    "        matrix_one[bank_index, row_index, col_index] += 1 # 16x131071x1017 的大矩阵\n",
    "\n",
    "    # 压缩成16x32x16尺寸   \n",
    "    matrix_small = np.add.reduceat(\n",
    "    np.add.reduceat(matrix_one, np.arange(0, matrix_one.shape[1], rows_per_block), axis=1),# 起点、终点、步长\n",
    "    np.arange(0, matrix_one.shape[2], cols_per_block), axis=2)\n",
    "    return matrix_small"
   ]
  },
  {
   "cell_type": "code",
   "execution_count": 8,
   "id": "a5917844-6423-4ab5-b459-4afce8b4b482",
   "metadata": {
    "tags": []
   },
   "outputs": [],
   "source": [
    "# 循环处理函数\n",
    "def process_group_3(grouped, idx):\n",
    "    matrix_small = process_group(grouped.get_group(f\"Server_{idx+1}\"))\n",
    "    shared_np_arr[idx] = matrix_small"
   ]
  },
  {
   "cell_type": "code",
   "execution_count": 9,
   "id": "c0ccdcb4-ca57-4de1-b189-2c9bd5fa6db9",
   "metadata": {
    "tags": []
   },
   "outputs": [],
   "source": [
    "# 创建共享数组 \n",
    "array_shape = (30502, 16,32, 16)  # 30502个数组，每个数组大小为16x32x16\n",
    "# 创建一个共享数组\n",
    "shared_arr_base = multiprocessing.Array(ctypes.c_double, int(np.prod(array_shape)))\n",
    "# 将共享数组转换为 NumPy \n",
    "shared_np_arr = np.frombuffer(shared_arr_base.get_obj(), dtype=np.float64).reshape(array_shape)\n"
   ]
  },
  {
   "cell_type": "code",
   "execution_count": null,
   "id": "2983c642-2aa8-495a-99bd-55654547e620",
   "metadata": {
    "tags": []
   },
   "outputs": [],
   "source": [
    "print(shared_np_arr[39,9,:,:]) # 确认这个数组是不是存对了"
   ]
  },
  {
   "cell_type": "code",
   "execution_count": 10,
   "id": "c51b6d97-b852-4083-a1ea-f5b6ba24f0ea",
   "metadata": {
    "tags": []
   },
   "outputs": [
    {
     "name": "stderr",
     "output_type": "stream",
     "text": [
      "100%|█████████████████████████████████████████████████████████████████████████████████████████████████████████████████████████████████| 1017/1017 [23:31<00:00,  1.39s/it]\n",
      "100%|█████████████████████████████████████████████████████████████████████████████████████████████████████████████████████████████████| 1017/1017 [23:33<00:00,  1.39s/it]\n",
      "100%|█████████████████████████████████████████████████████████████████████████████████████████████████████████████████████████████████| 1017/1017 [23:41<00:00,  1.40s/it]\n",
      "100%|█████████████████████████████████████████████████████████████████████████████████████████████████████████████████████████████████| 1017/1017 [23:37<00:00,  1.39s/it]\n",
      "100%|█████████████████████████████████████████████████████████████████████████████████████████████████████████████████████████████████| 1017/1017 [23:43<00:00,  1.40s/it]\n",
      "100%|█████████████████████████████████████████████████████████████████████████████████████████████████████████████████████████████████| 1017/1017 [23:44<00:00,  1.40s/it]\n",
      "100%|█████████████████████████████████████████████████████████████████████████████████████████████████████████████████████████████████| 1017/1017 [23:41<00:00,  1.40s/it]\n",
      "100%|█████████████████████████████████████████████████████████████████████████████████████████████████████████████████████████████████| 1017/1017 [23:38<00:00,  1.40s/it]\n",
      "100%|█████████████████████████████████████████████████████████████████████████████████████████████████████████████████████████████████| 1017/1017 [23:41<00:00,  1.40s/it]\n",
      "100%|█████████████████████████████████████████████████████████████████████████████████████████████████████████████████████████████████| 1017/1017 [23:40<00:00,  1.40s/it]\n",
      "100%|█████████████████████████████████████████████████████████████████████████████████████████████████████████████████████████████████| 1017/1017 [23:57<00:00,  1.41s/it]\n",
      "100%|█████████████████████████████████████████████████████████████████████████████████████████████████████████████████████████████████| 1017/1017 [23:54<00:00,  1.41s/it]\n",
      "100%|█████████████████████████████████████████████████████████████████████████████████████████████████████████████████████████████████| 1017/1017 [24:05<00:00,  1.42s/it]\n",
      "100%|█████████████████████████████████████████████████████████████████████████████████████████████████████████████████████████████████| 1017/1017 [24:09<00:00,  1.43s/it]\n",
      "100%|█████████████████████████████████████████████████████████████████████████████████████████████████████████████████████████████████| 1017/1017 [23:37<00:00,  1.39s/it]\n",
      "100%|█████████████████████████████████████████████████████████████████████████████████████████████████████████████████████████████████| 1017/1017 [23:49<00:00,  1.41s/it]\n",
      "100%|█████████████████████████████████████████████████████████████████████████████████████████████████████████████████████████████████| 1017/1017 [23:52<00:00,  1.41s/it]\n",
      "100%|█████████████████████████████████████████████████████████████████████████████████████████████████████████████████████████████████| 1017/1017 [23:40<00:00,  1.40s/it]\n",
      "100%|█████████████████████████████████████████████████████████████████████████████████████████████████████████████████████████████████| 1017/1017 [23:45<00:00,  1.40s/it]\n",
      "100%|█████████████████████████████████████████████████████████████████████████████████████████████████████████████████████████████████| 1017/1017 [23:43<00:00,  1.40s/it]\n",
      "100%|█████████████████████████████████████████████████████████████████████████████████████████████████████████████████████████████████| 1017/1017 [23:46<00:00,  1.40s/it]\n",
      "100%|█████████████████████████████████████████████████████████████████████████████████████████████████████████████████████████████████| 1017/1017 [24:08<00:00,  1.42s/it]\n",
      "100%|█████████████████████████████████████████████████████████████████████████████████████████████████████████████████████████████████| 1017/1017 [23:43<00:00,  1.40s/it]\n",
      "100%|█████████████████████████████████████████████████████████████████████████████████████████████████████████████████████████████████| 1017/1017 [23:38<00:00,  1.39s/it]\n",
      "100%|█████████████████████████████████████████████████████████████████████████████████████████████████████████████████████████████████| 1017/1017 [23:34<00:00,  1.39s/it]\n",
      "100%|█████████████████████████████████████████████████████████████████████████████████████████████████████████████████████████████████| 1017/1017 [23:35<00:00,  1.39s/it]\n",
      "100%|█████████████████████████████████████████████████████████████████████████████████████████████████████████████████████████████████| 1017/1017 [23:56<00:00,  1.41s/it]\n",
      "100%|█████████████████████████████████████████████████████████████████████████████████████████████████████████████████████████████████| 1017/1017 [23:54<00:00,  1.41s/it]\n",
      "100%|█████████████████████████████████████████████████████████████████████████████████████████████████████████████████████████████████| 1017/1017 [24:31<00:00,  1.45s/it]\n",
      " 99%|████████████████████████████████████████████████████████████████████████████████████████████████████████████████████████████████ | 1010/1017 [23:34<00:10,  1.44s/it]Process Process-30503:\n",
      " 99%|████████████████████████████████████████████████████████████████████████████████████████████████████████████████████████████████▏| 1011/1017 [23:35<00:08,  1.43s/it]Process Process-30504:\n",
      "Traceback (most recent call last):\n",
      "100%|████████████████████████████████████████████████████████████████████████████████████████████████████████████████████████████████▎| 1012/1017 [23:36<00:07,  1.42s/it]  File \"/home/anichikage/anaconda3/envs/dram-py310/lib/python3.10/multiprocessing/process.py\", line 314, in _bootstrap\n",
      "    self.run()\n",
      "  File \"/home/anichikage/anaconda3/envs/dram-py310/lib/python3.10/multiprocessing/process.py\", line 108, in run\n",
      "    self._target(*self._args, **self._kwargs)\n",
      "Traceback (most recent call last):\n",
      "Process Process-30505:\n",
      "100%|████████████████████████████████████████████████████████████████████████████████████████████████████████████████████████████████▍| 1013/1017 [23:38<00:05,  1.40s/it]  File \"/tmp/ipykernel_1550801/1826231526.py\", line 3, in process_group_3\n",
      "    matrix_small = process_group(grouped.get_group(f\"Server_{idx+1}\"))\n",
      "  File \"/home/anichikage/anaconda3/envs/dram-py310/lib/python3.10/multiprocessing/process.py\", line 314, in _bootstrap\n",
      "    self.run()\n",
      "  File \"/home/anichikage/anaconda3/envs/dram-py310/lib/python3.10/site-packages/pandas/core/groupby/groupby.py\", line 817, in get_group\n",
      "    raise KeyError(name)\n",
      "Traceback (most recent call last):\n",
      "Process Process-30506:\n",
      "  File \"/home/anichikage/anaconda3/envs/dram-py310/lib/python3.10/multiprocessing/process.py\", line 108, in run\n",
      "    self._target(*self._args, **self._kwargs)\n",
      "100%|████████████████████████████████████████████████████████████████████████████████████████████████████████████████████████████████▌| 1014/1017 [23:39<00:04,  1.39s/it]Traceback (most recent call last):\n",
      "KeyError: 'Server_30503'\n",
      "  File \"/tmp/ipykernel_1550801/1826231526.py\", line 3, in process_group_3\n",
      "    matrix_small = process_group(grouped.get_group(f\"Server_{idx+1}\"))\n",
      "  File \"/home/anichikage/anaconda3/envs/dram-py310/lib/python3.10/multiprocessing/process.py\", line 314, in _bootstrap\n",
      "    self.run()\n",
      "Process Process-30507:\n",
      "100%|████████████████████████████████████████████████████████████████████████████████████████████████████████████████████████████████▋| 1015/1017 [23:41<00:02,  1.38s/it]Traceback (most recent call last):\n",
      "  File \"/home/anichikage/anaconda3/envs/dram-py310/lib/python3.10/multiprocessing/process.py\", line 108, in run\n",
      "    self._target(*self._args, **self._kwargs)\n",
      "  File \"/home/anichikage/anaconda3/envs/dram-py310/lib/python3.10/site-packages/pandas/core/groupby/groupby.py\", line 817, in get_group\n",
      "    raise KeyError(name)\n",
      "  File \"/home/anichikage/anaconda3/envs/dram-py310/lib/python3.10/multiprocessing/process.py\", line 314, in _bootstrap\n",
      "    self.run()\n",
      "Process Process-30508:\n",
      "100%|████████████████████████████████████████████████████████████████████████████████████████████████████████████████████████████████▊| 1016/1017 [23:42<00:01,  1.37s/it]  File \"/home/anichikage/anaconda3/envs/dram-py310/lib/python3.10/multiprocessing/process.py\", line 108, in run\n",
      "    self._target(*self._args, **self._kwargs)\n",
      "  File \"/home/anichikage/anaconda3/envs/dram-py310/lib/python3.10/multiprocessing/process.py\", line 314, in _bootstrap\n",
      "    self.run()\n",
      "  File \"/tmp/ipykernel_1550801/1826231526.py\", line 3, in process_group_3\n",
      "    matrix_small = process_group(grouped.get_group(f\"Server_{idx+1}\"))\n",
      "Process Process-30509:\n",
      "KeyError: 'Server_30504'\n",
      "Traceback (most recent call last):\n",
      "100%|█████████████████████████████████████████████████████████████████████████████████████████████████████████████████████████████████| 1017/1017 [23:43<00:00,  1.40s/it]Traceback (most recent call last):\n",
      "  File \"/tmp/ipykernel_1550801/1826231526.py\", line 3, in process_group_3\n",
      "    matrix_small = process_group(grouped.get_group(f\"Server_{idx+1}\"))\n",
      "  File \"/home/anichikage/anaconda3/envs/dram-py310/lib/python3.10/site-packages/pandas/core/groupby/groupby.py\", line 817, in get_group\n",
      "    raise KeyError(name)\n",
      "  File \"/home/anichikage/anaconda3/envs/dram-py310/lib/python3.10/multiprocessing/process.py\", line 314, in _bootstrap\n",
      "    self.run()\n",
      "  File \"/home/anichikage/anaconda3/envs/dram-py310/lib/python3.10/multiprocessing/process.py\", line 314, in _bootstrap\n",
      "    self.run()\n",
      "  File \"/home/anichikage/anaconda3/envs/dram-py310/lib/python3.10/multiprocessing/process.py\", line 108, in run\n",
      "    self._target(*self._args, **self._kwargs)\n",
      "  File \"/tmp/ipykernel_1550801/1826231526.py\", line 3, in process_group_3\n",
      "    matrix_small = process_group(grouped.get_group(f\"Server_{idx+1}\"))\n",
      "KeyError: 'Server_30505'\n",
      "Process Process-30510:\n",
      "  File \"/home/anichikage/anaconda3/envs/dram-py310/lib/python3.10/multiprocessing/process.py\", line 108, in run\n",
      "    self._target(*self._args, **self._kwargs)\n",
      "  File \"/home/anichikage/anaconda3/envs/dram-py310/lib/python3.10/site-packages/pandas/core/groupby/groupby.py\", line 817, in get_group\n",
      "    raise KeyError(name)\n",
      "  File \"/home/anichikage/anaconda3/envs/dram-py310/lib/python3.10/multiprocessing/process.py\", line 108, in run\n",
      "    self._target(*self._args, **self._kwargs)\n",
      "  File \"/tmp/ipykernel_1550801/1826231526.py\", line 3, in process_group_3\n",
      "    matrix_small = process_group(grouped.get_group(f\"Server_{idx+1}\"))\n",
      "  File \"/tmp/ipykernel_1550801/1826231526.py\", line 3, in process_group_3\n",
      "    matrix_small = process_group(grouped.get_group(f\"Server_{idx+1}\"))\n",
      "Traceback (most recent call last):\n",
      "KeyError: 'Server_30506'\n",
      "  File \"/home/anichikage/anaconda3/envs/dram-py310/lib/python3.10/site-packages/pandas/core/groupby/groupby.py\", line 817, in get_group\n",
      "    raise KeyError(name)\n",
      "  File \"/home/anichikage/anaconda3/envs/dram-py310/lib/python3.10/multiprocessing/process.py\", line 314, in _bootstrap\n",
      "    self.run()\n",
      "  File \"/home/anichikage/anaconda3/envs/dram-py310/lib/python3.10/site-packages/pandas/core/groupby/groupby.py\", line 817, in get_group\n",
      "    raise KeyError(name)\n",
      "  File \"/home/anichikage/anaconda3/envs/dram-py310/lib/python3.10/site-packages/pandas/core/groupby/groupby.py\", line 817, in get_group\n",
      "    raise KeyError(name)\n",
      "KeyError: 'Server_30509'\n",
      "KeyError: 'Server_30507'\n",
      "  File \"/home/anichikage/anaconda3/envs/dram-py310/lib/python3.10/multiprocessing/process.py\", line 108, in run\n",
      "    self._target(*self._args, **self._kwargs)\n",
      "KeyError: 'Server_30508'\n",
      "\n",
      "  File \"/tmp/ipykernel_1550801/1826231526.py\", line 3, in process_group_3\n",
      "    matrix_small = process_group(grouped.get_group(f\"Server_{idx+1}\"))\n",
      "  File \"/home/anichikage/anaconda3/envs/dram-py310/lib/python3.10/site-packages/pandas/core/groupby/groupby.py\", line 817, in get_group\n",
      "    raise KeyError(name)\n",
      "KeyError: 'Server_30510'\n"
     ]
    }
   ],
   "source": [
    "# 创建30个进程，每次处理1017个样本\n",
    "\n",
    "# 同一个进程，同时能打开的文件数是有限的，一般是一千多，当时每次都是运行到2013就报错了\n",
    "for idx in range(30): # tqdm是显示进度条\n",
    "    processes = []\n",
    "    for j in tqdm(range(idx*1017, (idx+1)*1017)): \n",
    "        p = Process(target = process_group_3, args = (grouped, j)) # 创建一个多进程任务\n",
    "        processes.append(p) # 将进程添加到列表\n",
    "        p.start() # 启动进程，开始执行process_one_agg(idx)\n",
    "    for p in processes:\n",
    "        p.join() # 等待进程完成"
   ]
  },
  {
   "cell_type": "code",
   "execution_count": 20,
   "id": "f03b7620-a5a6-49ae-b1f2-19742ef32b3f",
   "metadata": {},
   "outputs": [
    {
     "name": "stdout",
     "output_type": "stream",
     "text": [
      "                   sid  memoryid  rankid  bankid     row  col  error_type  \\\n",
      "75188529  Server_30440         4       1       8  110386  376           2   \n",
      "75188530  Server_30440         4       1       8  110386  376           2   \n",
      "75188531  Server_30440         4       1       8  110386  320           2   \n",
      "75188532  Server_30440         4       1       8  110386  312           2   \n",
      "75188533  Server_30440         4       1       8  110386  296           2   \n",
      "...                ...       ...     ...     ...     ...  ...         ...   \n",
      "75188723  Server_30440         4       1       8  110386    0           2   \n",
      "75188724  Server_30440         4       1       8  110386   16           2   \n",
      "75188725  Server_30440         4       1       8  110386    8           2   \n",
      "75188726  Server_30440         4       1       8  110386   16           2   \n",
      "75188727  Server_30440         4       1       8  110386    0           2   \n",
      "\n",
      "                   error_time  \n",
      "75188529  0001-07-16 11:52:09  \n",
      "75188530  0001-07-19 11:10:51  \n",
      "75188531  0001-07-20 10:57:04  \n",
      "75188532  0001-07-20 10:57:04  \n",
      "75188533  0001-07-20 10:57:04  \n",
      "...                       ...  \n",
      "75188723  0001-08-30 01:46:15  \n",
      "75188724  0001-08-30 01:46:15  \n",
      "75188725  0001-08-31 01:32:29  \n",
      "75188726  0001-08-31 01:32:29  \n",
      "75188727  0001-08-31 01:32:29  \n",
      "\n",
      "[199 rows x 8 columns]\n"
     ]
    }
   ],
   "source": [
    "group_one = grouped.get_group(\"Server_30440\")\n",
    "print(group_one)"
   ]
  },
  {
   "cell_type": "code",
   "execution_count": 23,
   "id": "d1986db7-1ffa-4e7b-ab51-2818e4958317",
   "metadata": {},
   "outputs": [
    {
     "name": "stdout",
     "output_type": "stream",
     "text": [
      "[[0. 0. 0. 0. 0. 0. 0. 0. 0. 0. 0. 0. 0. 0. 0. 0.]\n",
      " [0. 0. 0. 0. 0. 0. 0. 0. 0. 0. 0. 0. 0. 0. 0. 0.]\n",
      " [0. 0. 0. 0. 0. 0. 0. 0. 0. 0. 0. 0. 0. 0. 0. 0.]\n",
      " [0. 0. 0. 0. 0. 0. 0. 0. 0. 0. 0. 0. 0. 0. 0. 0.]\n",
      " [0. 0. 0. 0. 0. 0. 0. 0. 0. 0. 0. 0. 0. 0. 0. 0.]\n",
      " [0. 0. 0. 0. 0. 0. 0. 0. 0. 0. 0. 0. 0. 0. 0. 0.]\n",
      " [0. 0. 0. 0. 0. 0. 0. 0. 0. 0. 0. 0. 0. 0. 0. 0.]\n",
      " [0. 0. 0. 0. 0. 0. 0. 0. 0. 0. 0. 0. 0. 0. 0. 0.]\n",
      " [0. 0. 0. 0. 0. 0. 0. 0. 0. 0. 0. 0. 0. 0. 0. 0.]\n",
      " [0. 0. 0. 0. 0. 0. 0. 0. 0. 0. 0. 0. 0. 0. 0. 0.]\n",
      " [0. 0. 0. 0. 0. 0. 0. 0. 0. 0. 0. 0. 0. 0. 0. 0.]\n",
      " [0. 0. 0. 0. 0. 0. 0. 0. 0. 0. 0. 0. 0. 0. 0. 0.]\n",
      " [0. 0. 0. 0. 0. 0. 0. 0. 0. 0. 0. 0. 0. 0. 0. 0.]\n",
      " [0. 0. 0. 0. 0. 0. 0. 0. 0. 0. 0. 0. 0. 0. 0. 0.]\n",
      " [0. 0. 0. 0. 0. 0. 0. 0. 0. 0. 0. 0. 0. 0. 0. 0.]\n",
      " [0. 0. 0. 0. 0. 0. 0. 0. 0. 0. 0. 0. 0. 0. 0. 0.]\n",
      " [0. 0. 0. 0. 0. 0. 0. 0. 0. 0. 0. 0. 0. 0. 0. 0.]\n",
      " [0. 0. 0. 0. 0. 0. 0. 0. 0. 0. 0. 0. 0. 0. 0. 0.]\n",
      " [0. 0. 0. 0. 0. 0. 0. 0. 0. 0. 0. 0. 0. 0. 0. 0.]\n",
      " [0. 0. 0. 0. 0. 0. 0. 0. 0. 0. 0. 0. 0. 0. 0. 0.]\n",
      " [0. 0. 0. 0. 0. 0. 0. 0. 0. 0. 0. 0. 0. 0. 0. 0.]\n",
      " [0. 0. 0. 0. 0. 0. 0. 0. 0. 0. 0. 0. 0. 0. 0. 0.]\n",
      " [0. 0. 0. 0. 0. 0. 0. 0. 0. 0. 0. 0. 0. 0. 0. 0.]\n",
      " [0. 0. 0. 0. 0. 0. 0. 0. 0. 0. 0. 0. 0. 0. 0. 0.]\n",
      " [0. 0. 0. 0. 0. 0. 0. 0. 0. 0. 0. 0. 0. 0. 0. 0.]\n",
      " [0. 0. 0. 0. 0. 0. 0. 0. 0. 0. 0. 0. 0. 0. 0. 0.]\n",
      " [0. 0. 0. 0. 0. 0. 0. 0. 0. 0. 0. 0. 0. 0. 0. 0.]\n",
      " [0. 0. 0. 0. 0. 0. 0. 0. 0. 0. 0. 0. 0. 0. 0. 0.]\n",
      " [0. 0. 0. 0. 0. 0. 0. 0. 0. 0. 0. 0. 0. 0. 0. 0.]\n",
      " [0. 0. 0. 0. 0. 0. 0. 0. 0. 0. 0. 0. 0. 0. 0. 0.]\n",
      " [0. 0. 0. 0. 0. 0. 0. 0. 0. 0. 0. 0. 0. 0. 0. 0.]\n",
      " [0. 0. 0. 0. 0. 0. 0. 0. 0. 0. 0. 0. 0. 0. 0. 0.]]\n"
     ]
    }
   ],
   "source": [
    "print(shared_np_arr[30439,6,:,:])"
   ]
  },
  {
   "cell_type": "code",
   "execution_count": 24,
   "id": "2e19cdac-ebb3-4254-a609-9f17208a1e70",
   "metadata": {},
   "outputs": [],
   "source": [
    "data_mce3d = shared_np_arr"
   ]
  },
  {
   "cell_type": "code",
   "execution_count": 28,
   "id": "ee9b5e73-0758-4141-a741-e4cfb2cdadcc",
   "metadata": {},
   "outputs": [
    {
     "name": "stdout",
     "output_type": "stream",
     "text": [
      "(30502, 16, 32, 16)\n"
     ]
    }
   ],
   "source": [
    "print(data_mce3d.shape)"
   ]
  },
  {
   "cell_type": "code",
   "execution_count": 29,
   "id": "090ce7ea-4c0d-4f4b-8b4c-9e89e44b314f",
   "metadata": {},
   "outputs": [],
   "source": [
    "np.save('data_processed/data_mce3d.npy', data_mce3d) "
   ]
  },
  {
   "cell_type": "code",
   "execution_count": 30,
   "id": "b13b2153-641f-4268-bc76-4ee59b738b97",
   "metadata": {},
   "outputs": [],
   "source": [
    "# 归一化\n",
    "data_mce = np.load(\"data_processed/data_mce3d.npy\")"
   ]
  },
  {
   "cell_type": "code",
   "execution_count": 31,
   "id": "f454d221-903a-4e28-9e49-74fcb48b38dc",
   "metadata": {},
   "outputs": [],
   "source": [
    "data_norm = 2 / (1 + np.exp(-data_mce)) - 1"
   ]
  },
  {
   "cell_type": "code",
   "execution_count": null,
   "id": "97ae6b1a-db5e-45b7-bd1b-b3f625429688",
   "metadata": {},
   "outputs": [],
   "source": [
    "print(data_norm[0,13,:,:])"
   ]
  },
  {
   "cell_type": "code",
   "execution_count": 33,
   "id": "b90e8c3e-e26e-44b5-9825-f62aee28b6e7",
   "metadata": {},
   "outputs": [],
   "source": [
    "np.save('data_processed/data_norm.npy', data_norm)"
   ]
  },
  {
   "cell_type": "code",
   "execution_count": null,
   "id": "465caae4-db66-4860-9abb-b18ebe0ab617",
   "metadata": {
    "tags": []
   },
   "outputs": [],
   "source": [
    "print(sum(data_norm[30501,:,:,:]))"
   ]
  },
  {
   "cell_type": "code",
   "execution_count": null,
   "id": "efb44dc9-d7b3-453e-9c1e-7e1d14c20c7f",
   "metadata": {},
   "outputs": [],
   "source": []
  }
 ],
 "metadata": {
  "kernelspec": {
   "display_name": "dram-py310",
   "language": "python",
   "name": "dram-py310"
  },
  "language_info": {
   "codemirror_mode": {
    "name": "ipython",
    "version": 3
   },
   "file_extension": ".py",
   "mimetype": "text/x-python",
   "name": "python",
   "nbconvert_exporter": "python",
   "pygments_lexer": "ipython3",
   "version": "3.10.12"
  }
 },
 "nbformat": 4,
 "nbformat_minor": 5
}
