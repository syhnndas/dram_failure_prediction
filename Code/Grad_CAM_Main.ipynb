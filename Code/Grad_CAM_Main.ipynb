{
 "cells": [
  {
   "cell_type": "code",
   "execution_count": null,
   "id": "d97c9930-2078-42cc-a66e-ec899bfc2882",
   "metadata": {
    "tags": []
   },
   "outputs": [],
   "source": [
    "import os\n",
    "import random\n",
    "import torch\n",
    "import torch.nn as nn\n",
    "import numpy as np\n",
    "import cv2\n",
    "from PIL import Image\n",
    "import matplotlib.pyplot as plt\n",
    "from pytorch_grad_cam import GradCAM\n",
    "from pytorch_grad_cam.utils.image import show_cam_on_image\n",
    "import uuid\n"
   ]
  },
  {
   "cell_type": "code",
   "execution_count": null,
   "id": "29ab9bac-3794-46a5-b270-17694a52d258",
   "metadata": {
    "tags": []
   },
   "outputs": [],
   "source": [
    "# 残差块\n",
    "class ResidualBlock(nn.Module):\n",
    "    def __init__(self, in_channels, out_channels, stride=1): # 指定输入通道，输出通道\n",
    "        super(ResidualBlock, self).__init__()\n",
    "        self.conv1 = nn.Conv2d(in_channels, out_channels, kernel_size=3, stride=stride, padding=1)\n",
    "        self.bn1 = nn.BatchNorm2d(out_channels)\n",
    "        self.relu = nn.ReLU(inplace=True)\n",
    "        self.conv2 = nn.Conv2d(out_channels, out_channels, kernel_size=3, stride=1, padding=1)\n",
    "        self.bn2 = nn.BatchNorm2d(out_channels)\n",
    "\n",
    "        self.shortcut = nn.Sequential()\n",
    "        if stride != 1 or in_channels != out_channels:\n",
    "            self.shortcut = nn.Sequential(\n",
    "                nn.Conv2d(in_channels, out_channels, kernel_size=1, stride=stride),\n",
    "                nn.BatchNorm2d(out_channels)\n",
    "            )\n",
    "            \n",
    "    def forward(self, x):\n",
    "        out = self.relu(self.bn1(self.conv1(x)))\n",
    "        out = self.bn2(self.conv2(out))\n",
    "        out += self.shortcut(x)\n",
    "        out = self.relu(out)\n",
    "        return out\n",
    "    \n",
    "class ResNet_model(nn.Module):\n",
    "    def __init__(self, num_classes = 2):\n",
    "        super(ResNet_model, self).__init__()\n",
    "        self.conv1 = nn.Conv2d(3, 8, kernel_size=3, stride=1, padding=1) # 输入为3个通道\n",
    "        self.bn1 = nn.BatchNorm2d(8)\n",
    "        self.relu = nn.ReLU(inplace = True)\n",
    "        self.layer1 = self._make_layer(8, 16, 2, stride=2) # 输入通道、输出通道、块数\n",
    "        self.layer2 = self._make_layer(16, 32, 2, stride=2)\n",
    "        self.layer3 = self._make_layer(32, 32, 2, stride=2)\n",
    "        self.layer4 = self._make_layer(32, 64, 2, stride=2)\n",
    "        self.avgpool = nn.AdaptiveAvgPool2d((1, 1))\n",
    "        self.fc1 = nn.Linear(64, 8)\n",
    "        self.fc2 = nn.Linear(8, 2)\n",
    "\n",
    "    def _make_layer(self, in_channels, out_channels, blocks, stride=1):\n",
    "        layers = []\n",
    "        layers.append(ResidualBlock(in_channels, out_channels, stride))\n",
    "        for _ in range(1, blocks):\n",
    "            layers.append(ResidualBlock(out_channels, out_channels))\n",
    "        return nn.Sequential(*layers)\n",
    "\n",
    "    def forward(self, x):\n",
    "        x = self.conv1(x)\n",
    "        x = self.bn1(x)\n",
    "        x = self.relu(x)\n",
    "        x = self.layer1(x)\n",
    "        x = self.layer2(x)\n",
    "        x = self.layer3(x)\n",
    "        x = self.layer4(x) # 4层layer，每个layer有两个残差块\n",
    "        x = self.avgpool(x)\n",
    "        x = torch.flatten(x, 1)\n",
    "        \n",
    "        x = self.fc1(x)\n",
    "        x = self.fc2(x)\n",
    "        return x\n",
    "model = torch.load(\"ResNet.pth\")"
   ]
  },
  {
   "cell_type": "code",
   "execution_count": null,
   "id": "de5841dc-00a5-4865-9917-7f954c7e6bd5",
   "metadata": {
    "tags": []
   },
   "outputs": [],
   "source": [
    "def vis_cam(cam: np.ndarray, input_tensor: torch.Tensor):\n",
    "    def normalization(x: np.ndarray, scale=1):   # 归一化\n",
    "        x_min = np.min(x)\n",
    "        x_max = np.max(x)\n",
    "        return (x - x_min) / (x_max - x_min) * scale \n",
    "    \n",
    "    # 底层是cv2实现的所以要求图像形状为 H x W x C\n",
    "    input_tensor= input_tensor.permute(1, 2, 0).numpy()\n",
    "    norm_img = normalization(input_tensor)\n",
    "    \n",
    "    # 可视化不支持batch，所以要取cam第一个\n",
    "    vis = show_cam_on_image(norm_img, cam[0], use_rgb=True)\n",
    "    \n",
    "    vis_img = Image.fromarray(vis)\n",
    "    # vis_img.save(f'cam_{uuid.uuid1()}.jpg')\n",
    "    return vis_img"
   ]
  },
  {
   "cell_type": "code",
   "execution_count": null,
   "id": "0985c17b-0f53-4080-a645-c1db4409098c",
   "metadata": {
    "tags": []
   },
   "outputs": [],
   "source": [
    "def generate_grad_cam(model, img_root):\n",
    "    img = cv2.imread(img_root)\n",
    "    img_tensor = torch.from_numpy(img)\n",
    "    # 重排维度从 (32, 16, 3) 到 (3, 32, 16)\n",
    "    img_tensor = img_tensor.permute(2, 0, 1)\n",
    "    grad_cam = GradCAM(model=model, target_layers=[model.layer1[-1]])   \n",
    "    cam = grad_cam(input_tensor=img_tensor.unsqueeze(0).float()) # 输入的Shape: B x C x H x W\n",
    " \n",
    "    # print(f'Cam.shape: {cam.shape}')\n",
    "    # print(f'Cam.max: {cam.max()}, Cam.min: {cam.min()}')\n",
    "    vis1 = vis_cam(cam, img_tensor)\n",
    "    return vis1"
   ]
  },
  {
   "cell_type": "code",
   "execution_count": null,
   "id": "a41a5dba-c9e1-430f-83fb-8fd0d03d048c",
   "metadata": {
    "tags": []
   },
   "outputs": [],
   "source": [
    "model.eval()"
   ]
  },
  {
   "cell_type": "code",
   "execution_count": 136,
   "id": "16d33c18-9e65-4c08-8eec-ccee29ff58d8",
   "metadata": {
    "tags": []
   },
   "outputs": [
    {
     "data": {
      "text/plain": [
       "<matplotlib.colorbar.Colorbar at 0x7f6f2c4be710>"
      ]
     },
     "execution_count": 136,
     "metadata": {},
     "output_type": "execute_result"
    },
    {
     "data": {
      "image/png": "[encoded data removed]",
      "text/plain": [
       "<Figure size 640x480 with 2 Axes>"
      ]
     },
     "metadata": {},
     "output_type": "display_data"
    }
   ],
   "source": [
    "img_root = \"./图像数据/1_failure/img_2509.png\"\n",
    "img = cv2.imread(img_root)\n",
    "vis = generate_grad_cam(model, img_root)\n",
    "plt.imshow(vis,cmap=\"jet\")\n",
    "plt.colorbar()"
   ]
  },
  {
   "cell_type": "code",
   "execution_count": 137,
   "id": "fc27c226-81f4-478b-a6ab-f0283ece3003",
   "metadata": {
    "tags": []
   },
   "outputs": [
    {
     "data": {
      "text/plain": [
       "<matplotlib.colorbar.Colorbar at 0x7f6f2c926bc0>"
      ]
     },
     "execution_count": 137,
     "metadata": {},
     "output_type": "execute_result"
    },
    {
     "data": {
      "image/png": "[encoded data removed]",
      "text/plain": [
       "<Figure size 640x480 with 2 Axes>"
      ]
     },
     "metadata": {},
     "output_type": "display_data"
    }
   ],
   "source": [
    "plt.imshow(img,\"jet\")\n",
    "plt.colorbar()"
   ]
  },
  {
   "cell_type": "code",
   "execution_count": 138,
   "id": "fa44f96a-94dd-419d-b947-28d65ed76de1",
   "metadata": {
    "tags": []
   },
   "outputs": [
    {
     "data": {
      "text/plain": [
       "<matplotlib.colorbar.Colorbar at 0x7f6f2ccf74f0>"
      ]
     },
     "execution_count": 138,
     "metadata": {},
     "output_type": "execute_result"
    },
    {
     "data": {
      "image/png": "[encoded data removed]",
      "text/plain": [
       "<Figure size 640x480 with 2 Axes>"
      ]
     },
     "metadata": {},
     "output_type": "display_data"
    }
   ],
   "source": [
    "img_hstack = np.hstack([img, vis])\n",
    "plt.imshow(img_hstack,\"jet\")\n",
    "plt.axis(\"off\")\n",
    "plt.colorbar()"
   ]
  },
  {
   "cell_type": "code",
   "execution_count": 96,
   "id": "5a5b02f7-859c-4f15-ab46-a3419ea2f372",
   "metadata": {
    "tags": []
   },
   "outputs": [],
   "source": [
    "## 原矩阵\n",
    "data = np.load(\"../failure_prediction3d/data_processed/data_mce3d.npy\")\n",
    "label = np.load(\"../failure_prediction3d/data_processed/labels.npy\")"
   ]
  },
  {
   "cell_type": "code",
   "execution_count": null,
   "id": "01d58528-da34-4813-8536-781cefc85ba1",
   "metadata": {
    "tags": []
   },
   "outputs": [],
   "source": [
    "label[10237]"
   ]
  },
  {
   "cell_type": "code",
   "execution_count": null,
   "id": "39d235dc-87c6-4a46-a928-88ca186ebf98",
   "metadata": {
    "tags": []
   },
   "outputs": [],
   "source": [
    "plt.imshow(vis,cmap=\"jet\")\n",
    "plt.colorbar()\n",
    "plt.savefig(f\"{img_root[-13:]}.png\")"
   ]
  },
  {
   "cell_type": "code",
   "execution_count": null,
   "id": "5dc3c935-3712-4e36-9b85-05b26776eda3",
   "metadata": {},
   "outputs": [],
   "source": []
  }
 ],
 "metadata": {
  "kernelspec": {
   "display_name": "dram-py310",
   "language": "python",
   "name": "dram-py310"
  },
  "language_info": {
   "codemirror_mode": {
    "name": "ipython",
    "version": 3
   },
   "file_extension": ".py",
   "mimetype": "text/x-python",
   "name": "python",
   "nbconvert_exporter": "python",
   "pygments_lexer": "ipython3",
   "version": "3.10.12"
  }
 },
 "nbformat": 4,
 "nbformat_minor": 5
}
