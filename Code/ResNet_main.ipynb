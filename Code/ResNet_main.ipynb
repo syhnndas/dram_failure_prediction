{
 "cells": [
  {
   "cell_type": "code",
   "execution_count": 1,
   "id": "3bb430bc-4a6a-42bf-84cf-b53269369d78",
   "metadata": {},
   "outputs": [],
   "source": [
    "import os\n",
    "import random\n",
    "import torch\n",
    "import torch.nn as nn\n",
    "from torchvision import datasets, transforms\n",
    "from torch.utils.data import DataLoader, random_split\n",
    "from torchinfo import summary\n",
    "from sklearn.metrics import confusion_matrix, ConfusionMatrixDisplay, precision_score, recall_score, f1_score\n",
    "import matplotlib.pyplot as plt"
   ]
  },
  {
   "cell_type": "code",
   "execution_count": 2,
   "id": "fb136e9f-0c6e-4080-8518-8b7cffc96440",
   "metadata": {},
   "outputs": [],
   "source": [
    "# 设定数据路径\n",
    "data_dir = \"./图像数据\"  # 请替换成你的数据集路径\n",
    "batch_size = 32  # 训练批次大小\n",
    "\n",
    "# 图像预处理\n",
    "transform = transforms.Compose([\n",
    "    transforms.ToTensor(),\n",
    "    transforms.Normalize([0.5, 0.5, 0.5], [0.5, 0.5, 0.5]) \n",
    "])\n",
    "\n",
    "# 加载数据集\n",
    "dataset = datasets.ImageFolder(root=data_dir, transform=transform)\n"
   ]
  },
  {
   "cell_type": "code",
   "execution_count": 3,
   "id": "71903bf5-d093-44b7-b726-3ed0641824db",
   "metadata": {},
   "outputs": [],
   "source": [
    "# 获取类别索引\n",
    "normal_indices = [i for i in range(len(dataset)) if dataset.targets[i] == 0]\n",
    "failure_indices = [i for i in range(len(dataset)) if dataset.targets[i] == 1]"
   ]
  },
  {
   "cell_type": "code",
   "execution_count": 4,
   "id": "e1b58f60-334b-4207-b11f-aa7b8cc3c957",
   "metadata": {},
   "outputs": [
    {
     "name": "stdout",
     "output_type": "stream",
     "text": [
      "训练集大小: 3423，测试集大小: 855\n"
     ]
    }
   ],
   "source": [
    "# 使 normal 类样本数量等于 failure 类（2139 张）\n",
    "selected_normal_indices = random.sample(normal_indices, len(failure_indices))  \n",
    "\n",
    "# 组合平衡后的索引\n",
    "balanced_indices = selected_normal_indices + failure_indices\n",
    "random.shuffle(balanced_indices)\n",
    "\n",
    "# 重新构造平衡数据集\n",
    "balanced_dataset = torch.utils.data.Subset(dataset, balanced_indices)\n",
    "\n",
    "# 使用 random_split 进行 80/20 划分\n",
    "train_dataset, test_dataset = random_split(balanced_dataset, [0.8, 0.2])\n",
    "\n",
    "# 创建 DataLoader\n",
    "train_loader = DataLoader(train_dataset, batch_size=batch_size, shuffle=True)\n",
    "test_loader = DataLoader(test_dataset, batch_size=len(test_dataset), shuffle=False)\n",
    "\n",
    "print(f\"训练集大小: {len(train_dataset)}，测试集大小: {len(test_dataset)}\")"
   ]
  },
  {
   "cell_type": "code",
   "execution_count": 5,
   "id": "27ee4133-b35a-4542-aeae-b76b3f13b185",
   "metadata": {},
   "outputs": [
    {
     "name": "stdout",
     "output_type": "stream",
     "text": [
      "torch.Size([32, 3, 32, 16]) torch.Size([32])\n"
     ]
    }
   ],
   "source": [
    "x_train, y_train = next(iter(train_loader))\n",
    "print(x_train.shape, y_train.shape)"
   ]
  },
  {
   "cell_type": "code",
   "execution_count": 6,
   "id": "541f4c4b-0f6b-4993-9f6f-57e6f5fde3e1",
   "metadata": {},
   "outputs": [],
   "source": [
    "# 残差块\n",
    "class ResidualBlock(nn.Module):\n",
    "    def __init__(self, in_channels, out_channels, stride=1): # 指定输入通道，输出通道\n",
    "        super(ResidualBlock, self).__init__()\n",
    "        self.conv1 = nn.Conv2d(in_channels, out_channels, kernel_size=3, stride=stride, padding=1)\n",
    "        self.bn1 = nn.BatchNorm2d(out_channels)\n",
    "        self.relu = nn.ReLU(inplace=True)\n",
    "        self.conv2 = nn.Conv2d(out_channels, out_channels, kernel_size=3, stride=1, padding=1)\n",
    "        self.bn2 = nn.BatchNorm2d(out_channels)\n",
    "\n",
    "        self.shortcut = nn.Sequential()\n",
    "        if stride != 1 or in_channels != out_channels:\n",
    "            self.shortcut = nn.Sequential(\n",
    "                nn.Conv2d(in_channels, out_channels, kernel_size=1, stride=stride),\n",
    "                nn.BatchNorm2d(out_channels)\n",
    "            )\n",
    "            \n",
    "    def forward(self, x):\n",
    "        out = self.relu(self.bn1(self.conv1(x)))\n",
    "        out = self.bn2(self.conv2(out))\n",
    "        out += self.shortcut(x)\n",
    "        out = self.relu(out)\n",
    "        return out\n",
    "    \n",
    "class ResNet_model(nn.Module):\n",
    "    def __init__(self, num_classes = 2):\n",
    "        super(ResNet_model, self).__init__()\n",
    "        self.conv1 = nn.Conv2d(3, 8, kernel_size=3, stride=1, padding=1) # 输入为3个通道\n",
    "        self.bn1 = nn.BatchNorm2d(8)\n",
    "        self.relu = nn.ReLU(inplace = True)\n",
    "        self.layer1 = self._make_layer(8, 16, 2, stride=2) # 输入通道、输出通道、块数\n",
    "        self.layer2 = self._make_layer(16, 32, 2, stride=2)\n",
    "        self.layer3 = self._make_layer(32, 32, 2, stride=2)\n",
    "        self.layer4 = self._make_layer(32, 64, 2, stride=2)\n",
    "        self.avgpool = nn.AdaptiveAvgPool2d((1, 1))\n",
    "        self.fc1 = nn.Linear(64, 26)\n",
    "        self.fc2 = nn.Linear(26, 2)\n",
    "\n",
    "    def _make_layer(self, in_channels, out_channels, blocks, stride=1):\n",
    "        layers = []\n",
    "        layers.append(ResidualBlock(in_channels, out_channels, stride))\n",
    "        for _ in range(1, blocks):\n",
    "            layers.append(ResidualBlock(out_channels, out_channels))\n",
    "        return nn.Sequential(*layers)\n",
    "\n",
    "    def forward(self, x):\n",
    "        x = self.conv1(x)\n",
    "        x = self.bn1(x)\n",
    "        x = self.relu(x)\n",
    "        x = self.layer1(x)\n",
    "        x = self.layer2(x)\n",
    "        x = self.layer3(x)\n",
    "        x = self.layer4(x) # 4层layer，每个layer有两个残差块\n",
    "        x = self.avgpool(x)\n",
    "        x = torch.flatten(x, 1)\n",
    "        \n",
    "        feature = self.fc1(x)\n",
    "        x = self.fc2(feature)\n",
    "        return x, feature\n"
   ]
  },
  {
   "cell_type": "code",
   "execution_count": 7,
   "id": "0f9e83a1-5a1e-4390-a3f5-2b1298edf0fe",
   "metadata": {},
   "outputs": [],
   "source": [
    "# 检查是否有可用的 GPU\n",
    "device = torch.device('cuda' if torch.cuda.is_available() else 'cpu')\n",
    "\n",
    "model = ResNet_model().to(device) # 实例化"
   ]
  },
  {
   "cell_type": "code",
   "execution_count": 8,
   "id": "d6dff98a-5874-4737-8032-bc4e23e72260",
   "metadata": {},
   "outputs": [
    {
     "data": {
      "text/plain": [
       "==========================================================================================\n",
       "Layer (type:depth-idx)                   Output Shape              Param #\n",
       "==========================================================================================\n",
       "ResNet_model                             [1, 2]                    --\n",
       "├─Conv2d: 1-1                            [1, 8, 32, 16]            224\n",
       "├─BatchNorm2d: 1-2                       [1, 8, 32, 16]            16\n",
       "├─ReLU: 1-3                              [1, 8, 32, 16]            --\n",
       "├─Sequential: 1-4                        [1, 16, 16, 8]            --\n",
       "│    └─ResidualBlock: 2-1                [1, 16, 16, 8]            --\n",
       "│    │    └─Conv2d: 3-1                  [1, 16, 16, 8]            1,168\n",
       "│    │    └─BatchNorm2d: 3-2             [1, 16, 16, 8]            32\n",
       "│    │    └─ReLU: 3-3                    [1, 16, 16, 8]            --\n",
       "│    │    └─Conv2d: 3-4                  [1, 16, 16, 8]            2,320\n",
       "│    │    └─BatchNorm2d: 3-5             [1, 16, 16, 8]            32\n",
       "│    │    └─Sequential: 3-6              [1, 16, 16, 8]            176\n",
       "│    │    └─ReLU: 3-7                    [1, 16, 16, 8]            --\n",
       "│    └─ResidualBlock: 2-2                [1, 16, 16, 8]            --\n",
       "│    │    └─Conv2d: 3-8                  [1, 16, 16, 8]            2,320\n",
       "│    │    └─BatchNorm2d: 3-9             [1, 16, 16, 8]            32\n",
       "│    │    └─ReLU: 3-10                   [1, 16, 16, 8]            --\n",
       "│    │    └─Conv2d: 3-11                 [1, 16, 16, 8]            2,320\n",
       "│    │    └─BatchNorm2d: 3-12            [1, 16, 16, 8]            32\n",
       "│    │    └─Sequential: 3-13             [1, 16, 16, 8]            --\n",
       "│    │    └─ReLU: 3-14                   [1, 16, 16, 8]            --\n",
       "├─Sequential: 1-5                        [1, 32, 8, 4]             --\n",
       "│    └─ResidualBlock: 2-3                [1, 32, 8, 4]             --\n",
       "│    │    └─Conv2d: 3-15                 [1, 32, 8, 4]             4,640\n",
       "│    │    └─BatchNorm2d: 3-16            [1, 32, 8, 4]             64\n",
       "│    │    └─ReLU: 3-17                   [1, 32, 8, 4]             --\n",
       "│    │    └─Conv2d: 3-18                 [1, 32, 8, 4]             9,248\n",
       "│    │    └─BatchNorm2d: 3-19            [1, 32, 8, 4]             64\n",
       "│    │    └─Sequential: 3-20             [1, 32, 8, 4]             608\n",
       "│    │    └─ReLU: 3-21                   [1, 32, 8, 4]             --\n",
       "│    └─ResidualBlock: 2-4                [1, 32, 8, 4]             --\n",
       "│    │    └─Conv2d: 3-22                 [1, 32, 8, 4]             9,248\n",
       "│    │    └─BatchNorm2d: 3-23            [1, 32, 8, 4]             64\n",
       "│    │    └─ReLU: 3-24                   [1, 32, 8, 4]             --\n",
       "│    │    └─Conv2d: 3-25                 [1, 32, 8, 4]             9,248\n",
       "│    │    └─BatchNorm2d: 3-26            [1, 32, 8, 4]             64\n",
       "│    │    └─Sequential: 3-27             [1, 32, 8, 4]             --\n",
       "│    │    └─ReLU: 3-28                   [1, 32, 8, 4]             --\n",
       "├─Sequential: 1-6                        [1, 32, 4, 2]             --\n",
       "│    └─ResidualBlock: 2-5                [1, 32, 4, 2]             --\n",
       "│    │    └─Conv2d: 3-29                 [1, 32, 4, 2]             9,248\n",
       "│    │    └─BatchNorm2d: 3-30            [1, 32, 4, 2]             64\n",
       "│    │    └─ReLU: 3-31                   [1, 32, 4, 2]             --\n",
       "│    │    └─Conv2d: 3-32                 [1, 32, 4, 2]             9,248\n",
       "│    │    └─BatchNorm2d: 3-33            [1, 32, 4, 2]             64\n",
       "│    │    └─Sequential: 3-34             [1, 32, 4, 2]             1,120\n",
       "│    │    └─ReLU: 3-35                   [1, 32, 4, 2]             --\n",
       "│    └─ResidualBlock: 2-6                [1, 32, 4, 2]             --\n",
       "│    │    └─Conv2d: 3-36                 [1, 32, 4, 2]             9,248\n",
       "│    │    └─BatchNorm2d: 3-37            [1, 32, 4, 2]             64\n",
       "│    │    └─ReLU: 3-38                   [1, 32, 4, 2]             --\n",
       "│    │    └─Conv2d: 3-39                 [1, 32, 4, 2]             9,248\n",
       "│    │    └─BatchNorm2d: 3-40            [1, 32, 4, 2]             64\n",
       "│    │    └─Sequential: 3-41             [1, 32, 4, 2]             --\n",
       "│    │    └─ReLU: 3-42                   [1, 32, 4, 2]             --\n",
       "├─Sequential: 1-7                        [1, 64, 2, 1]             --\n",
       "│    └─ResidualBlock: 2-7                [1, 64, 2, 1]             --\n",
       "│    │    └─Conv2d: 3-43                 [1, 64, 2, 1]             18,496\n",
       "│    │    └─BatchNorm2d: 3-44            [1, 64, 2, 1]             128\n",
       "│    │    └─ReLU: 3-45                   [1, 64, 2, 1]             --\n",
       "│    │    └─Conv2d: 3-46                 [1, 64, 2, 1]             36,928\n",
       "│    │    └─BatchNorm2d: 3-47            [1, 64, 2, 1]             128\n",
       "│    │    └─Sequential: 3-48             [1, 64, 2, 1]             2,240\n",
       "│    │    └─ReLU: 3-49                   [1, 64, 2, 1]             --\n",
       "│    └─ResidualBlock: 2-8                [1, 64, 2, 1]             --\n",
       "│    │    └─Conv2d: 3-50                 [1, 64, 2, 1]             36,928\n",
       "│    │    └─BatchNorm2d: 3-51            [1, 64, 2, 1]             128\n",
       "│    │    └─ReLU: 3-52                   [1, 64, 2, 1]             --\n",
       "│    │    └─Conv2d: 3-53                 [1, 64, 2, 1]             36,928\n",
       "│    │    └─BatchNorm2d: 3-54            [1, 64, 2, 1]             128\n",
       "│    │    └─Sequential: 3-55             [1, 64, 2, 1]             --\n",
       "│    │    └─ReLU: 3-56                   [1, 64, 2, 1]             --\n",
       "├─AdaptiveAvgPool2d: 1-8                 [1, 64, 1, 1]             --\n",
       "├─Linear: 1-9                            [1, 26]                   1,690\n",
       "├─Linear: 1-10                           [1, 2]                    54\n",
       "==========================================================================================\n",
       "Total params: 214,064\n",
       "Trainable params: 214,064\n",
       "Non-trainable params: 0\n",
       "Total mult-adds (M): 2.80\n",
       "==========================================================================================\n",
       "Input size (MB): 0.01\n",
       "Forward/backward pass size (MB): 0.34\n",
       "Params size (MB): 0.86\n",
       "Estimated Total Size (MB): 1.20\n",
       "=========================================================================================="
      ]
     },
     "execution_count": 8,
     "metadata": {},
     "output_type": "execute_result"
    }
   ],
   "source": [
    "summary(model, input_size=(1,3,32,16)) # 可视化网络结构"
   ]
  },
  {
   "cell_type": "code",
   "execution_count": 9,
   "id": "4aa2b61e-6583-44fb-a799-a92fb0b767fb",
   "metadata": {},
   "outputs": [
    {
     "name": "stdout",
     "output_type": "stream",
     "text": [
      "Epoch [1/30]\n",
      "Train Loss: 0.6982, Train Accuracy: 53.90%\n",
      "Epoch [6/30]\n",
      "Train Loss: 0.6203, Train Accuracy: 65.61%\n",
      "Epoch [11/30]\n",
      "Train Loss: 0.5918, Train Accuracy: 69.38%\n",
      "Epoch [16/30]\n",
      "Train Loss: 0.5668, Train Accuracy: 70.23%\n",
      "Epoch [21/30]\n",
      "Train Loss: 0.5388, Train Accuracy: 73.09%\n",
      "Epoch [26/30]\n",
      "Train Loss: 0.5098, Train Accuracy: 74.03%\n",
      "Epoch [30/30]\n",
      "Train Loss: 0.4871, Train Accuracy: 74.88%\n"
     ]
    }
   ],
   "source": [
    "## 训练模型\n",
    "train_size = len(train_dataset)\n",
    "test_size = len(test_dataset)\n",
    "criterion = nn.CrossEntropyLoss() # 损失函数\n",
    "optimizer = torch.optim.Adam(model.parameters(), lr=0.005)\n",
    "# 训练模型\n",
    "num_epochs = 30\n",
    "for epoch in range(num_epochs):\n",
    "    model.train()\n",
    "    running_loss = 0.0\n",
    "    correct = 0\n",
    "    total = 0\n",
    "\n",
    "    for x_train, y_train in train_loader:\n",
    "        x_train, y_train = x_train.to(device), y_train.to(device)\n",
    "        optimizer.zero_grad()\n",
    "        outputs, _ = model(x_train)\n",
    "        loss = criterion(outputs, y_train)\n",
    "        loss.backward()\n",
    "        optimizer.step()\n",
    "        \n",
    "        # 统计训练集的损失\n",
    "        running_loss += loss.item() * x_train.size(0)\n",
    "        \n",
    "        # 统计训练集的准确率\n",
    "        _, predicted = torch.max(outputs, 1)\n",
    "        correct += (predicted == y_train).sum().item()\n",
    "\n",
    "    # 计算每个 epoch 的训练损失和准确率\n",
    "    epoch_loss = running_loss / train_size\n",
    "    epoch_accuracy = 100 * correct / train_size\n",
    "    \n",
    "    if epoch % 5 == 0 or epoch == num_epochs-1 :\n",
    "        print(f'Epoch [{epoch+1}/{num_epochs}]')\n",
    "        print(f'Train Loss: {epoch_loss:.4f}, Train Accuracy: {epoch_accuracy:.2f}%')"
   ]
  },
  {
   "cell_type": "code",
   "execution_count": 10,
   "id": "ce3c4574-ef2c-4eaa-b445-b70dd46976f2",
   "metadata": {
    "tags": []
   },
   "outputs": [],
   "source": [
    "# model = torch.load(\"ResNet.pth\")"
   ]
  },
  {
   "cell_type": "code",
   "execution_count": 11,
   "id": "f5d83b36-29eb-4855-a983-b45ae12b662e",
   "metadata": {
    "tags": []
   },
   "outputs": [
    {
     "name": "stdout",
     "output_type": "stream",
     "text": [
      "Test Accuracy: 71.23%\n"
     ]
    },
    {
     "data": {
      "image/png": "[encoded data removed]",
      "text/plain": [
       "<Figure size 640x480 with 2 Axes>"
      ]
     },
     "metadata": {},
     "output_type": "display_data"
    },
    {
     "name": "stdout",
     "output_type": "stream",
     "text": [
      "['pre:', 0.6858974358974359, 'recall:', 0.7642857142857142]\n"
     ]
    }
   ],
   "source": [
    "# 测试模型\n",
    "train_size = len(train_dataset)\n",
    "test_size = len(test_dataset)\n",
    "model = model.to(\"cpu\")\n",
    "model.eval()\n",
    "test_correct = 0\n",
    "test_total = 0\n",
    "with torch.no_grad():\n",
    "    for x_test, y_test in test_loader:\n",
    "        x_test, y_test = x_test.to(\"cpu\"), y_test.to(\"cpu\")\n",
    "        outputs, _ = model(x_test)\n",
    "        _, y_pred = torch.max(outputs, 1)\n",
    "        test_correct += (y_pred == y_test).sum().item()\n",
    "\n",
    "test_accuracy = 100 * test_correct / test_size\n",
    "print(f'Test Accuracy: {test_accuracy:.2f}%')\n",
    "y_test, y_pred = y_test.cpu(), y_pred.cpu()\n",
    "cm = confusion_matrix(y_test, y_pred)\n",
    "\n",
    "# 显示混淆矩阵\n",
    "disp = ConfusionMatrixDisplay(confusion_matrix = cm)\n",
    "disp.plot(cmap = plt.cm.Blues)\n",
    "plt.show()\n",
    "## 计算Recall、pre\n",
    "precision = precision_score(y_test, y_pred, pos_label = 1) # 指定阳性样本（正样本）\n",
    "recall = recall_score(y_test, y_pred, pos_label = 1)\n",
    "print([f\"pre:\", precision, f\"recall:\", recall])\n"
   ]
  },
  {
   "cell_type": "code",
   "execution_count": 12,
   "id": "1c57c220-aa24-49b8-ad8e-5c86c2943e58",
   "metadata": {
    "tags": []
   },
   "outputs": [],
   "source": [
    "## 保存模型\n",
    "# torch.save(model,\"ResNet.pth\")"
   ]
  },
  {
   "cell_type": "code",
   "execution_count": 13,
   "id": "686be2dd-e239-4473-8637-c06d9c3ae371",
   "metadata": {},
   "outputs": [],
   "source": [
    "## 使用模型提特征\n",
    "model = model.to(device)\n",
    "# 获取CNN的训练集、测试集特征\n",
    "# 重新打包一下train_dataset，批次设置为样本总数，test_dataset一开始批次就是样本总数，不用重新打包\n",
    "train_loader2 = DataLoader(train_dataset, batch_size=len(train_dataset) ,shuffle = None)\n",
    "\n",
    "for x_train, y_train in train_loader2:\n",
    "    x_train, y_train = x_train.to(device), y_train.to(device)\n",
    "    # x_train = x_train.view(-1,1,500)\n",
    "    _, train_features = model(x_train) # train_features为 样本数*16的矩阵\n",
    "    train_label = y_train\n",
    "    \n",
    "for x_test, y_test in test_loader:\n",
    "    x_test, y_test = x_test.to(device), y_test.to(device)\n",
    "    # x_test = x_test.view(-1,1,500)\n",
    "    _, test_features = model(x_test)\n",
    "    test_label = y_test"
   ]
  },
  {
   "cell_type": "code",
   "execution_count": 14,
   "id": "59f24d80-1111-4c15-9cb6-5fd1c3aba6d7",
   "metadata": {},
   "outputs": [],
   "source": [
    "train_features = train_features.cpu().detach().numpy()\n",
    "train_label = y_train.cpu().numpy()\n",
    "\n",
    "test_features = test_features.cpu().detach().numpy()\n",
    "test_label = y_test.cpu().numpy()"
   ]
  },
  {
   "cell_type": "code",
   "execution_count": 18,
   "id": "d5ab6c50-7d53-4f05-95c5-ff23a45a5a32",
   "metadata": {
    "tags": []
   },
   "outputs": [],
   "source": [
    "import numpy as np\n",
    "np.save(\"train_features.npy\", train_features)\n",
    "np.save(\"train_label.npy\", train_label)\n",
    "np.save(\"test_features.npy\", test_features)\n",
    "np.save(\"test_label.npy\", test_label)"
   ]
  },
  {
   "cell_type": "code",
   "execution_count": null,
   "id": "826f79d8-2a15-4aa0-a57b-554870f8879c",
   "metadata": {},
   "outputs": [],
   "source": []
  }
 ],
 "metadata": {
  "kernelspec": {
   "display_name": "dram-py310",
   "language": "python",
   "name": "dram-py310"
  },
  "language_info": {
   "codemirror_mode": {
    "name": "ipython",
    "version": 3
   },
   "file_extension": ".py",
   "mimetype": "text/x-python",
   "name": "python",
   "nbconvert_exporter": "python",
   "pygments_lexer": "ipython3",
   "version": "3.10.12"
  }
 },
 "nbformat": 4,
 "nbformat_minor": 5
}
