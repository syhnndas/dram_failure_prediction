{
 "cells": [
  {
   "cell_type": "code",
   "execution_count": 11,
   "id": "fe97f6a5-4883-487d-b9d6-32d1a151667c",
   "metadata": {
    "tags": []
   },
   "outputs": [],
   "source": [
    "import numpy as np\n",
    "import cv2\n",
    "import pywt\n",
    "from sklearn.decomposition import PCA\n",
    "import matplotlib.pyplot as plt\n",
    "from tqdm import tqdm\n",
    "from concurrent.futures import ProcessPoolExecutor\n",
    "import os"
   ]
  },
  {
   "cell_type": "code",
   "execution_count": 2,
   "id": "ef376093-0409-480e-9837-8010264cea3a",
   "metadata": {
    "tags": []
   },
   "outputs": [],
   "source": [
    "def cwt_transform(matrix, wavelet='morl', scales=np.arange(1, 16, 1)):\n",
    "    \"\"\"\n",
    "    对输入矩阵的每个通道进行 CWT，并返回 CWT 系数矩阵\n",
    "    \"\"\"\n",
    "    h, w, c = matrix.shape  # (32,16,32)\n",
    "    cwt_coeffs = np.zeros((h, w, len(scales), c))  # 存储 CWT 结果\n",
    "\n",
    "    for i in range(c):  # 遍历 32 个通道\n",
    "        for row in range(h):  # 对每一行信号进行 CWT\n",
    "            coeffs, _ = pywt.cwt(matrix[row, :, i], scales, wavelet)\n",
    "            cwt_coeffs[row, :, :, i] = np.abs(coeffs.T)  # 取绝对值以便可视化\n",
    "\n",
    "    # 取不同尺度的均值（降低到 32×16×32）\n",
    "    cwt_image = np.mean(cwt_coeffs, axis=2)  # (32,16,32)\n",
    "    return cwt_image\n",
    "\n",
    "def pca_to_rgb(matrix):\n",
    "    \"\"\"\n",
    "    对 CWT 变换后的数据进行 PCA 降维，并归一化，到 RGB\n",
    "    \"\"\"\n",
    "    h, w, c = matrix.shape  # (32,16,32)\n",
    "    reshaped = matrix.reshape(-1, c)  # (512,32)\n",
    "\n",
    "    # 使用 PCA 降维到 3 维\n",
    "    pca = PCA(n_components=3)\n",
    "    transformed = pca.fit_transform(reshaped)\n",
    "\n",
    "    # 线性归一化到 0-255\n",
    "    transformed = (transformed - transformed.min()) / (transformed.max() - transformed.min())  \n",
    "    rgb_image = (transformed * 255).astype(np.uint8).reshape(h, w, 3)\n",
    "\n",
    "    return rgb_image\n"
   ]
  },
  {
   "cell_type": "code",
   "execution_count": 3,
   "id": "f052e08e-0c51-4879-8b10-1e9660f1c1ae",
   "metadata": {
    "tags": []
   },
   "outputs": [],
   "source": [
    "data = np.load(\"../failure_prediction3d/data_processed/data_mce3d.npy\")"
   ]
  },
  {
   "cell_type": "code",
   "execution_count": 9,
   "id": "3fc6d8a4-d129-462a-9d51-a03f62ef55bc",
   "metadata": {
    "tags": []
   },
   "outputs": [],
   "source": [
    "label = np.load(\"../failure_prediction3d/data_processed/labels.npy\")"
   ]
  },
  {
   "cell_type": "code",
   "execution_count": 5,
   "id": "59b9b7ae-8fdc-47eb-8c1d-4c052649caed",
   "metadata": {
    "tags": []
   },
   "outputs": [],
   "source": [
    "def process_image(data, label, i):\n",
    "    matrix = data\n",
    "    matrix_transposed = np.transpose(matrix, (1, 2, 0))  # 交换轴顺序\n",
    "    cwt_features = cwt_transform(matrix_transposed) # 提取cwt系数\n",
    "    rgb_img = pca_to_rgb(cwt_features) # pca降维成rgb\n",
    "    output_path = f\"./normal/img_{i}.png\" if label == 0 else f\"./failure/img_{i}.png\"\n",
    "    cv2.imwrite(output_path, rgb_img)"
   ]
  },
  {
   "cell_type": "code",
   "execution_count": 8,
   "id": "dd6d6338-72e1-4fe7-84d3-e5a6dac7e745",
   "metadata": {
    "tags": []
   },
   "outputs": [
    {
     "name": "stderr",
     "output_type": "stream",
     "text": [
      "100%|███████████████████████████████████████████████████████████████████████████████████████████████████████████████████████████████| 30502/30502 [13:03<00:00, 38.94it/s]"
     ]
    },
    {
     "name": "stdout",
     "output_type": "stream",
     "text": [
      "全部图片处理完成！\n"
     ]
    },
    {
     "name": "stderr",
     "output_type": "stream",
     "text": [
      "\n"
     ]
    }
   ],
   "source": [
    "# 确保输出目录存在\n",
    "os.makedirs(\"./normal\", exist_ok=True)\n",
    "os.makedirs(\"./failure\", exist_ok=True)\n",
    "if __name__ == \"__main__\":\n",
    "    num_workers = 14  # 适当控制进程数，避免过载\n",
    "\n",
    "    with ProcessPoolExecutor(max_workers=num_workers) as executor:\n",
    "        # 使用 zip() 逐个传递 data[i], label[i], i，避免整个 data 复制\n",
    "        list(tqdm(executor.map(process_image, data, label, range(len(label))), total=len(label)))\n",
    "\n",
    "    print(\"全部图片处理完成！\")"
   ]
  },
  {
   "cell_type": "code",
   "execution_count": null,
   "id": "1f18d004-ea88-406e-b1df-31b19610a1c8",
   "metadata": {
    "tags": []
   },
   "outputs": [],
   "source": [
    "# 循环写法\n",
    "for i in tqdm(range(len(label))) :\n",
    "    matrix = data[i,:,:,:]\n",
    "    matrix_transposed = np.transpose(matrix, (1, 2, 0))  # 交换轴顺序\n",
    "    cwt_features = cwt_transform(matrix_transposed) # 提取cwt系数\n",
    "    rgb_img = pca_to_rgb(cwt_features) # pca降维成rgb\n",
    "    if label[i] == 0:\n",
    "        cv2.imwrite(f\"./normal/img_{i}.png\", rgb_img)\n",
    "    else :\n",
    "        cv2.imwrite(f\"./failure/img_{i}.png\", rgb_img)\n",
    "    "
   ]
  },
  {
   "cell_type": "code",
   "execution_count": null,
   "id": "9cbf02a4-208f-4d52-91d8-43928dce8d05",
   "metadata": {
    "tags": []
   },
   "outputs": [],
   "source": [
    "# 显示图像\n",
    "plt.imshow(rgb_img)\n",
    "# plt.title(\"CWT-based RGB Image\")\n",
    "plt.axis(\"off\")\n",
    "plt.colorbar()\n",
    "plt.show()"
   ]
  },
  {
   "cell_type": "code",
   "execution_count": null,
   "id": "a0877860-ebcc-4b85-95e3-25dc64907611",
   "metadata": {
    "tags": []
   },
   "outputs": [],
   "source": [
    "cv2.imwrite(\"cwt_pca.png\", rgb_img)"
   ]
  },
  {
   "cell_type": "code",
   "execution_count": 12,
   "id": "1d4bf284-47ed-46e6-a132-28075c7192c9",
   "metadata": {
    "tags": []
   },
   "outputs": [],
   "source": []
  },
  {
   "cell_type": "code",
   "execution_count": 20,
   "id": "4c54fb0e-9ea3-4bed-a4a4-8b90b943f46a",
   "metadata": {},
   "outputs": [
    {
     "data": {
      "image/png": "[encoded data removed]",
      "text/plain": [
       "<Figure size 640x480 with 2 Axes>"
      ]
     },
     "metadata": {},
     "output_type": "display_data"
    }
   ],
   "source": [
    "img = cv2.imread(\"./图像数据/1_failure/img_10002.png\")\n",
    "plt.imshow(img,\"jet\")\n",
    "# plt.axis(\"off\")\n",
    "plt.colorbar()\n",
    "plt.show()"
   ]
  },
  {
   "cell_type": "code",
   "execution_count": 22,
   "id": "6a5bc16f-47a3-4d63-9bf1-7847474419fa",
   "metadata": {},
   "outputs": [
    {
     "data": {
      "image/png": "[encoded data removed]",
      "text/plain": [
       "<Figure size 640x480 with 2 Axes>"
      ]
     },
     "metadata": {},
     "output_type": "display_data"
    }
   ],
   "source": [
    "img = cv2.imread(\"./图像数据/1_failure/img_23495.png\")\n",
    "plt.imshow(img,\"jet\")\n",
    "# plt.axis(\"off\")\n",
    "plt.colorbar()\n",
    "plt.show()"
   ]
  },
  {
   "cell_type": "code",
   "execution_count": 24,
   "id": "6903aa5a-d1f2-4280-9767-ee29ec70a86f",
   "metadata": {
    "tags": []
   },
   "outputs": [
    {
     "data": {
      "image/png": "[encoded data removed]",
      "text/plain": [
       "<Figure size 640x480 with 2 Axes>"
      ]
     },
     "metadata": {},
     "output_type": "display_data"
    }
   ],
   "source": [
    "img = cv2.imread(\"./图像数据/1_failure/img_27867.png\")\n",
    "plt.imshow(img,\"jet\")\n",
    "# plt.axis(\"off\")\n",
    "plt.colorbar()\n",
    "plt.show()"
   ]
  },
  {
   "cell_type": "code",
   "execution_count": null,
   "id": "1b75d127-6d6f-4738-83d3-2e905d953ebf",
   "metadata": {},
   "outputs": [],
   "source": []
  }
 ],
 "metadata": {
  "kernelspec": {
   "display_name": "dram-py310",
   "language": "python",
   "name": "dram-py310"
  },
  "language_info": {
   "codemirror_mode": {
    "name": "ipython",
    "version": 3
   },
   "file_extension": ".py",
   "mimetype": "text/x-python",
   "name": "python",
   "nbconvert_exporter": "python",
   "pygments_lexer": "ipython3",
   "version": "3.10.12"
  }
 },
 "nbformat": 4,
 "nbformat_minor": 5
}
