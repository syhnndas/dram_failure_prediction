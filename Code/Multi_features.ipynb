{
 "cells": [
  {
   "cell_type": "code",
   "execution_count": 78,
   "id": "08f4d3cd-03c8-41cb-a4e9-02d9804daf37",
   "metadata": {
    "tags": []
   },
   "outputs": [],
   "source": [
    "## 导入包\n",
    "import numpy as np\n",
    "import pandas as pd\n",
    "# import torch\n",
    "# import torch.nn as nn\n",
    "# from torchinfo import summary\n",
    "# from torch.utils.data import TensorDataset, DataLoader, random_split, Subset\n",
    "from sklearn.metrics import confusion_matrix, ConfusionMatrixDisplay, precision_score, recall_score, f1_score,accuracy_score\n",
    "import matplotlib.pyplot as plt\n",
    "# from imblearn.under_sampling import RandomUnderSampler # 多数样本下采样\n",
    "from sklearn.svm import SVC"
   ]
  },
  {
   "cell_type": "code",
   "execution_count": null,
   "id": "bf7c7cb7-34da-45fa-9e97-30cef10ed790",
   "metadata": {
    "tags": []
   },
   "outputs": [],
   "source": [
    "## 提取inventory里的信息\n",
    "inv = pd.read_csv(\"/home/anichikage/workspace/dram/dram-failure-prediction/data/raw/ali/inventory.csv\")\n",
    "print(inv)"
   ]
  },
  {
   "cell_type": "code",
   "execution_count": 3,
   "id": "eb4aac2d-337c-4e1e-b42e-01de35c8b91f",
   "metadata": {
    "tags": []
   },
   "outputs": [],
   "source": [
    "inv_info = inv[['server_manufacturer', 'DRAM_model', 'DIMM_number']]\n",
    "\n",
    "train_server_id = np.load('train_server_id.npy')\n",
    "test_server_id = np.load('test_server_id.npy')"
   ]
  },
  {
   "cell_type": "code",
   "execution_count": 4,
   "id": "6d840382-cab7-4d08-a54c-746604032a86",
   "metadata": {
    "tags": []
   },
   "outputs": [],
   "source": [
    "# 提取物理信息\n",
    "def inv_feature_extract(inv_info, server_id):\n",
    "    # 提取特定行\n",
    "    server_info = inv_info.iloc[server_id]\n",
    "    server_info = np.vstack(server_info.values)\n",
    "    data = server_info\n",
    "    \n",
    "    # 将信息转为数字\n",
    "    mapping_col1 = {'M1': 1, 'M2': 2, 'M3': 3, 'M4': 4}\n",
    "    mapping_col2 = {'A1': 1, 'A2': 2, 'B1': 3, 'B2': 4, 'B3': 5, 'C1': 6, 'C2': 7}\n",
    "    mapping_col3 = {8: 1, 12: 2, 16: 3, 24: 4}\n",
    "\n",
    "    # 使用矢量化的方式将每一列的值转换为对应的数字\n",
    "    for key, value in mapping_col1.items():\n",
    "        data[:, 0] = np.where(data[:, 0] == key, value, data[:, 0])\n",
    "\n",
    "    for key, value in mapping_col2.items():\n",
    "        data[:, 1] = np.where(data[:, 1] == key, value, data[:, 1])\n",
    "\n",
    "    # 对第三列直接进行映射\n",
    "    for key, value in mapping_col3.items():\n",
    "        data[:, 2] = np.where(data[:, 2].astype(int) == key, value, data[:, 2])\n",
    "\n",
    "    # 打印转换后的数组\n",
    "    server_info = data.astype(int)\n",
    "    return server_info\n",
    "    "
   ]
  },
  {
   "cell_type": "code",
   "execution_count": 5,
   "id": "23358ba3-795b-4cc2-a88e-1341c0bf70a7",
   "metadata": {
    "tags": []
   },
   "outputs": [],
   "source": [
    "train_info = inv_feature_extract(inv_info, train_server_id)\n",
    "test_info = inv_feature_extract(inv_info, test_server_id)"
   ]
  },
  {
   "cell_type": "code",
   "execution_count": 6,
   "id": "daa2879a-a681-4810-acb8-c0074afcb750",
   "metadata": {
    "tags": []
   },
   "outputs": [],
   "source": [
    "## 加载网络提取的特征、标签\n",
    "train_features = np.load('train_features.npy')\n",
    "test_features = np.load('test_features.npy')\n",
    "\n",
    "train_label = np.load('train_label.npy')\n",
    "test_label = np.load('test_label.npy')"
   ]
  },
  {
   "cell_type": "code",
   "execution_count": 7,
   "id": "37e03ba6-a13d-4747-8115-ad35b4fcb317",
   "metadata": {
    "tags": []
   },
   "outputs": [],
   "source": [
    "Train_features = np.append(train_features, train_info, axis=1)\n",
    "Test_features = np.append(test_features, test_info, axis=1)\n"
   ]
  },
  {
   "cell_type": "code",
   "execution_count": null,
   "id": "8fe08d3e-5192-4a85-a352-2681f02ce1da",
   "metadata": {},
   "outputs": [],
   "source": [
    "np.save('Train_features.npy', Train_features)\n",
    "np.save('Test_features.npy', Test_features) # 存成npy"
   ]
  },
  {
   "cell_type": "code",
   "execution_count": 12,
   "id": "561234ad-4595-49d0-96a7-65ad0a34fe81",
   "metadata": {},
   "outputs": [],
   "source": [
    "# 存成csv，供Matlab用\n",
    "df = pd.DataFrame(Train_features)\n",
    "df.to_csv('Train_features.csv', index=False, header=True)\n",
    "\n",
    "df = pd.DataFrame(Test_features)\n",
    "df.to_csv('Test_features.csv', index=False, header=True)\n",
    "\n",
    "df = pd.DataFrame(train_label)\n",
    "df.to_csv('train_label.csv', index=False, header=True)\n",
    "\n",
    "df = pd.DataFrame(test_label)\n",
    "df.to_csv('test_label.csv', index=False, header=True)"
   ]
  },
  {
   "cell_type": "code",
   "execution_count": 5,
   "id": "f849ba9e-c8b4-4c0f-86df-23290363bf4f",
   "metadata": {
    "tags": []
   },
   "outputs": [
    {
     "name": "stderr",
     "output_type": "stream",
     "text": [
      "/home/anichikage/anaconda3/envs/dram-py310/lib/python3.10/site-packages/sklearn/utils/validation.py:1184: DataConversionWarning: A column-vector y was passed when a 1d array was expected. Please change the shape of y to (n_samples, ), for example using ravel().\n",
      "  y = column_or_1d(y, warn=True)\n"
     ]
    },
    {
     "name": "stdout",
     "output_type": "stream",
     "text": [
      "模型准确率: 50.02 %\n",
      "计算指标结果：\n",
      "Acc: 78.83% \n",
      "Pre: 79.23% \n",
      "Recall: 77.54% \n",
      "F1-score: 78.38% \n"
     ]
    },
    {
     "data": {
      "text/plain": [
       "<sklearn.metrics._plot.confusion_matrix.ConfusionMatrixDisplay at 0x7f5b082efe50>"
      ]
     },
     "execution_count": 5,
     "metadata": {},
     "output_type": "execute_result"
    },
    {
     "data": {
      "image/png": "[encoded data removed]",
      "text/plain": [
       "<Figure size 640x480 with 2 Axes>"
      ]
     },
     "metadata": {},
     "output_type": "display_data"
    }
   ],
   "source": [
    "# 创建SVM模型\n",
    "svm_model = SVC(kernel='rbf')\n",
    "# CNN的输出为Tensor，需要转化为numpy输入给SVM\n",
    "# 训练SVM\n",
    "svm_model.fit(Train_features, train_label)\n",
    "\n",
    "# 测试\n",
    "predict_label = svm_model.predict(Test_features)\n",
    "\n",
    "# 计算分类结果\n",
    "acc = accuracy_score(test_label, predict_label) \n",
    "pre = precision_score(test_label, predict_label) \n",
    "recall = recall_score(test_label, predict_label) \n",
    "f1score = f1_score(test_label, predict_label) \n",
    "print('计算指标结果：\\nAcc: %.2f%% \\nPre: %.2f%% \\nRecall: %.2f%% \\nF1-score: %.2f%% ' % (100*acc,100*pre,100*recall,100*f1score))\n",
    "\n",
    "## 绘制混淆矩阵\n",
    "disp = ConfusionMatrixDisplay(confusion_matrix(test_label, predict_label))\n",
    "disp.plot()\n"
   ]
  },
  {
   "cell_type": "code",
   "execution_count": 9,
   "id": "462dc73c-fed8-42f0-a205-36f0d509a962",
   "metadata": {
    "tags": []
   },
   "outputs": [
    {
     "name": "stdout",
     "output_type": "stream",
     "text": [
      "模型准确率: 79.44 %\n",
      "计算指标结果：\n",
      "Acc: 79.44% \n",
      "Pre: 78.65% \n",
      "Recall: 80.14% \n",
      "F1-score: 79.39% \n"
     ]
    },
    {
     "data": {
      "text/plain": [
       "<sklearn.metrics._plot.confusion_matrix.ConfusionMatrixDisplay at 0x7f4d32f69900>"
      ]
     },
     "execution_count": 9,
     "metadata": {},
     "output_type": "execute_result"
    },
    {
     "data": {
      "image/png": "[encoded data removed]",
      "text/plain": [
       "<Figure size 640x480 with 2 Axes>"
      ]
     },
     "metadata": {},
     "output_type": "display_data"
    }
   ],
   "source": [
    "## 只使用3个物理信息\n",
    "svm_model = SVC(kernel='rbf')\n",
    "# CNN的输出为Tensor，需要转化为numpy输入给SVM\n",
    "# 训练SVM\n",
    "svm_model.fit(train_info, train_label)\n",
    "\n",
    "# 测试\n",
    "predict_label = svm_model.predict(test_info)\n",
    "\n",
    "# 计算模型准确率\n",
    "accuracy = np.mean(predict_label == test_label)\n",
    "print(f\"模型准确率: {100*accuracy:.2f} %\")\n",
    "\n",
    "# 可视化分类结果\n",
    "acc = accuracy_score(test_label, predict_label) # acc\n",
    "pre = precision_score(test_label, predict_label) # pre\n",
    "recall = recall_score(test_label, predict_label) # reacall\n",
    "f1score = f1_score(test_label, predict_label) # f1-socre\n",
    "print('计算指标结果：\\nAcc: %.2f%% \\nPre: %.2f%% \\nRecall: %.2f%% \\nF1-score: %.2f%% ' % (100*acc,100*pre,100*recall,100*f1score))\n",
    "\n",
    "## 绘制混淆矩阵\n",
    "disp = ConfusionMatrixDisplay(confusion_matrix(test_label,predict_label))\n",
    "disp.plot()\n"
   ]
  },
  {
   "cell_type": "code",
   "execution_count": 55,
   "id": "41d06384-55c1-4f4f-bc9d-9cb8602848d6",
   "metadata": {
    "tags": []
   },
   "outputs": [],
   "source": [
    "## ==============================手动提特征==================================\n",
    "data = np.load(\"./data_processed/data_mce3d.npy\") # 这个是归一化之前的数据\n",
    "train_server_id = np.load(\"train_server_id.npy\")\n",
    "test_server_id = np.load(\"test_server_id.npy\")"
   ]
  },
  {
   "cell_type": "code",
   "execution_count": 62,
   "id": "3abb585f-7761-4b11-bc62-243156fc677f",
   "metadata": {
    "tags": []
   },
   "outputs": [],
   "source": [
    "# CE数量：CN，最大行差：MDR，最大列差：MDC，单个通道最大CE数 MC\n",
    "## 定义计算CN、MDR、MDC、MOC\n",
    "def manual_feature_extract(server): # server是单个服务器  16x32x16\n",
    "    # manual_features = []\n",
    "    # 计算CN\n",
    "    CN = np.sum(server)\n",
    "    \n",
    "    # 计算MDR MDC\n",
    "    max_diff_row = []\n",
    "    max_diff_col = []\n",
    "    # 依次计算每个特征图\n",
    "    for i in range(16):\n",
    "        one_channel = server[i]\n",
    "        # 找到非零值的索引\n",
    "        non_zero_indices = np.argwhere(one_channel != 0)\n",
    "        # 获取最大行数和最大列数\n",
    "        if non_zero_indices.size > 0:\n",
    "            max_row = non_zero_indices[:, 0].max()\n",
    "            min_row = non_zero_indices[:, 0].min()\n",
    "\n",
    "            max_col = non_zero_indices[:, 1].max()\n",
    "            min_col = non_zero_indices[:, 1].min()\n",
    "        else:\n",
    "            max_row, min_row, max_col, min_col = -1,-1,-1,-1  # 如果没有非零值\n",
    "\n",
    "        max_diff_row1 = max_row - min_row\n",
    "        max_diff_col1 = max_col - min_col\n",
    "        max_diff_row = np.append(max_diff_row, max_diff_row1)\n",
    "        max_diff_col = np.append(max_diff_col, max_diff_col1)\n",
    "        \n",
    "        MDR = max_diff_row.max()\n",
    "        MDC = max_diff_col.max()\n",
    "        \n",
    "        # 计算MOC\n",
    "        single_channel_sum = np.sum(server,axis=(1,2))\n",
    "        MOC = single_channel_sum.max()\n",
    "        manual_features = [CN, MDR, MDC, MOC]\n",
    "        return manual_features\n"
   ]
  },
  {
   "cell_type": "code",
   "execution_count": 72,
   "id": "8fadf536-30ac-4986-88b8-988057eac114",
   "metadata": {
    "tags": []
   },
   "outputs": [],
   "source": [
    "train_manual_features = []\n",
    "for i in range(len(train_server_id)):\n",
    "    server = data[train_server_id[i]]\n",
    "    manual_features = manual_feature_extract(server)\n",
    "    train_manual_features.append(manual_features)\n",
    "    \n",
    "test_manual_features = []\n",
    "for i in range(len(test_server_id)):\n",
    "    server = data[test_server_id[i]]\n",
    "    manual_features = manual_feature_extract(server)\n",
    "    test_manual_features.append(manual_features)"
   ]
  },
  {
   "cell_type": "code",
   "execution_count": 76,
   "id": "fbea2952-b1bb-4aa1-99e9-fb21da6805cb",
   "metadata": {
    "tags": []
   },
   "outputs": [],
   "source": [
    "Train_manual_features = np.array(train_manual_features)\n",
    "Test_manual_features = np.array(test_manual_features)"
   ]
  },
  {
   "cell_type": "code",
   "execution_count": 80,
   "id": "4b2d5a6a-1da5-4c16-aa5c-c2150b28a1b8",
   "metadata": {
    "tags": []
   },
   "outputs": [],
   "source": [
    "## 把特征合并到一起\n",
    "Train_features = np.load(\"Train_features.npy\")\n",
    "Test_features = np.load(\"Test_features.npy\")"
   ]
  },
  {
   "cell_type": "code",
   "execution_count": 81,
   "id": "27ce6198-4475-4200-8eda-5534f7087883",
   "metadata": {
    "tags": []
   },
   "outputs": [],
   "source": [
    "Train_Features = np.append(Train_manual_features, Train_features, axis=1)\n",
    "Test_Features = np.append(Test_manual_features, Test_features, axis=1)"
   ]
  },
  {
   "cell_type": "code",
   "execution_count": 82,
   "id": "09db60c4-c595-4c2e-89be-a12ab6f06fd2",
   "metadata": {
    "tags": []
   },
   "outputs": [],
   "source": [
    "# 存成csv，供Matlab用\n",
    "df = pd.DataFrame(Train_Features)\n",
    "df.to_csv('Train_Features.csv', index=False, header=True)\n",
    "\n",
    "df = pd.DataFrame(Test_Features)\n",
    "df.to_csv('Test_Features.csv', index=False, header=True)"
   ]
  },
  {
   "cell_type": "code",
   "execution_count": 94,
   "id": "77c2e4d9-69c0-46d6-b66a-d130e56e367b",
   "metadata": {
    "tags": []
   },
   "outputs": [
    {
     "name": "stdout",
     "output_type": "stream",
     "text": [
      "计算指标结果：\n",
      "Acc: 52.34% \n",
      "Pre: 82.61% \n",
      "Recall: 4.49% \n",
      "F1-score: 8.52% \n"
     ]
    },
    {
     "data": {
      "text/plain": [
       "<sklearn.metrics._plot.confusion_matrix.ConfusionMatrixDisplay at 0x7f5475968fa0>"
      ]
     },
     "execution_count": 94,
     "metadata": {},
     "output_type": "execute_result"
    },
    {
     "data": {
      "image/png": "[encoded data removed]",
      "text/plain": [
       "<Figure size 640x480 with 2 Axes>"
      ]
     },
     "metadata": {},
     "output_type": "display_data"
    }
   ],
   "source": [
    "## 试一下SVM分类\n",
    "train_label = np.load(\"train_label.npy\")\n",
    "test_label = np.load(\"test_label.npy\")\n",
    "# 创建SVM模型\n",
    "svm_model = SVC(kernel='rbf')\n",
    "\n",
    "# 训练SVM\n",
    "svm_model.fit(Train_Features, train_label)\n",
    "\n",
    "# 测试\n",
    "predict_label = svm_model.predict(Test_Features)\n",
    "\n",
    "# 计算分类结果\n",
    "acc = accuracy_score(test_label, predict_label) \n",
    "pre = precision_score(test_label, predict_label) \n",
    "recall = recall_score(test_label, predict_label) \n",
    "f1score = f1_score(test_label, predict_label) \n",
    "print('计算指标结果：\\nAcc: %.2f%% \\nPre: %.2f%% \\nRecall: %.2f%% \\nF1-score: %.2f%% ' % (100*acc,100*pre,100*recall,100*f1score))\n",
    "\n",
    "## 绘制混淆矩阵\n",
    "disp = ConfusionMatrixDisplay(confusion_matrix(test_label, predict_label))\n",
    "disp.plot()\n"
   ]
  },
  {
   "cell_type": "code",
   "execution_count": 95,
   "id": "4575020b-94bf-4850-b12a-18f3b8a7e669",
   "metadata": {
    "tags": []
   },
   "outputs": [
    {
     "data": {
      "text/plain": [
       "495"
      ]
     },
     "execution_count": 95,
     "metadata": {},
     "output_type": "execute_result"
    }
   ],
   "source": [
    "11*3*15"
   ]
  },
  {
   "cell_type": "code",
   "execution_count": null,
   "id": "4eb94054-b635-4dd9-9afc-b69abc3f69f3",
   "metadata": {},
   "outputs": [],
   "source": []
  }
 ],
 "metadata": {
  "kernelspec": {
   "display_name": "dram-py310",
   "language": "python",
   "name": "dram-py310"
  },
  "language_info": {
   "codemirror_mode": {
    "name": "ipython",
    "version": 3
   },
   "file_extension": ".py",
   "mimetype": "text/x-python",
   "name": "python",
   "nbconvert_exporter": "python",
   "pygments_lexer": "ipython3",
   "version": "3.10.12"
  }
 },
 "nbformat": 4,
 "nbformat_minor": 5
}
