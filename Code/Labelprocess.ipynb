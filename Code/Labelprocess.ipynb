{
 "cells": [
  {
   "cell_type": "code",
   "execution_count": 92,
   "id": "0900c03e-709f-4a78-bbad-8b238745a1e2",
   "metadata": {
    "tags": []
   },
   "outputs": [],
   "source": [
    "import pandas as pd\n",
    "import numpy as np"
   ]
  },
  {
   "cell_type": "code",
   "execution_count": 2,
   "id": "02da87e6-b1d6-41a5-9111-5a3a8c9c360d",
   "metadata": {
    "tags": []
   },
   "outputs": [
    {
     "name": "stdout",
     "output_type": "stream",
     "text": [
      "    serial_number     failure_time  tag  manufacturer  vendor\n",
      "0     server_1789   2019/2/4 20:03    0             0       0\n",
      "1    server_13003   2019/3/3 16:11    0             0       0\n",
      "2    server_15764   2019/4/11 8:23    0             0       0\n",
      "3    server_27567  2019/3/30 17:36    0             0       0\n",
      "4    server_33559   2019/3/19 7:01    0             0       0\n",
      "..            ...              ...  ...           ...     ...\n",
      "831  server_57227   2019/2/7 16:48    0             3       2\n",
      "832  server_15750   2019/4/9 16:16    1             3       2\n",
      "833  server_31066   2019/1/3 19:10    1             3       2\n",
      "834  server_51997   2019/4/3 11:30    1             3       2\n",
      "835  server_43096  2019/2/22 20:01    2             3       2\n",
      "\n",
      "[836 rows x 5 columns]\n"
     ]
    }
   ],
   "source": [
    "label_raw = pd.read_csv(\"memory_sample_failure_tag_round1_a_train.csv\")\n",
    "print(label_raw)"
   ]
  },
  {
   "cell_type": "code",
   "execution_count": 5,
   "id": "403dae56-dc0b-451e-ae27-4c19dea74200",
   "metadata": {
    "tags": []
   },
   "outputs": [],
   "source": [
    "sever_id = label_raw[\"serial_number\"]"
   ]
  },
  {
   "cell_type": "code",
   "execution_count": 6,
   "id": "4e0c0f51-e2cb-4e9f-9346-fd82535213c4",
   "metadata": {
    "tags": []
   },
   "outputs": [],
   "source": [
    "# 使用str.replace替换'Server_'为空字符串  \n",
    "cleaned_id = sever_id.str.replace('server_', '')  "
   ]
  },
  {
   "cell_type": "code",
   "execution_count": 7,
   "id": "2592a505-d036-4fad-84cd-9535cb39cdb3",
   "metadata": {
    "tags": []
   },
   "outputs": [],
   "source": [
    "# 转换为数组,再转化为整型数字\n",
    "id2 = np.array(cleaned_id).astype(int)"
   ]
  },
  {
   "cell_type": "code",
   "execution_count": 8,
   "id": "3c1471a6-b66b-4087-8c03-575d4b4b0daa",
   "metadata": {
    "tags": []
   },
   "outputs": [],
   "source": [
    "id3 = id2[id2 <= 30502]"
   ]
  },
  {
   "cell_type": "code",
   "execution_count": 25,
   "id": "3194d945-09e3-49c9-87dd-10f2ae7be726",
   "metadata": {
    "tags": []
   },
   "outputs": [],
   "source": [
    "# 创建一个空数组，在id3的位置设成1\n",
    "labels = np.zeros(30502)\n",
    "labels[id3-1] = 1 # 第0个位置对应的server_1 依次类推"
   ]
  },
  {
   "cell_type": "code",
   "execution_count": 26,
   "id": "3b7a2b5b-af6f-43fb-9038-1293d0ecd0ce",
   "metadata": {
    "tags": []
   },
   "outputs": [],
   "source": [
    "np.save(\"data_processed/labels.npy\", labels)"
   ]
  },
  {
   "cell_type": "code",
   "execution_count": 27,
   "id": "64a6e258-1581-44ad-a55a-d9111c838c82",
   "metadata": {
    "tags": []
   },
   "outputs": [],
   "source": [
    "labels = np.load(\"data_processed/labels.npy\")"
   ]
  },
  {
   "cell_type": "code",
   "execution_count": 30,
   "id": "3b735898-c258-4bf5-af26-069541d60411",
   "metadata": {
    "tags": []
   },
   "outputs": [
    {
     "name": "stdout",
     "output_type": "stream",
     "text": [
      "0.0\n"
     ]
    }
   ],
   "source": [
    "print(labels[15764])"
   ]
  },
  {
   "cell_type": "code",
   "execution_count": null,
   "id": "8dc019e4-7b4c-4d5d-80a0-937628209ed4",
   "metadata": {},
   "outputs": [],
   "source": []
  },
  {
   "cell_type": "code",
   "execution_count": null,
   "id": "9b12c5d9-2f76-4683-b03b-8fe4ee180a32",
   "metadata": {},
   "outputs": [],
   "source": []
  },
  {
   "cell_type": "code",
   "execution_count": 38,
   "id": "96cdccf7-48bd-49c1-8ce9-30f67a47eaf9",
   "metadata": {},
   "outputs": [],
   "source": [
    "data_mce = np.load(\"./data_processed/data_mce.npy\")"
   ]
  },
  {
   "cell_type": "code",
   "execution_count": 39,
   "id": "3c7bbc79-72e2-4727-b922-6df2bfec29fc",
   "metadata": {},
   "outputs": [
    {
     "name": "stdout",
     "output_type": "stream",
     "text": [
      "(30502, 32, 16)\n"
     ]
    }
   ],
   "source": [
    "print(data_mce.shape)"
   ]
  },
  {
   "cell_type": "code",
   "execution_count": 40,
   "id": "b99b3e78-87ce-494c-bae7-61c761d61c0b",
   "metadata": {},
   "outputs": [
    {
     "name": "stdout",
     "output_type": "stream",
     "text": [
      "[[0. 0. 0. 0. 0. 0. 0. 0. 0. 0. 0. 0. 5. 0. 0. 0.]\n",
      " [0. 0. 0. 0. 0. 0. 0. 0. 0. 0. 0. 0. 0. 0. 0. 0.]\n",
      " [0. 0. 0. 0. 0. 0. 0. 0. 0. 0. 0. 0. 0. 0. 0. 0.]\n",
      " [0. 0. 0. 0. 0. 0. 0. 0. 0. 0. 0. 0. 0. 0. 0. 0.]\n",
      " [0. 0. 0. 0. 0. 0. 0. 0. 0. 0. 0. 0. 0. 0. 0. 0.]\n",
      " [0. 0. 0. 0. 0. 0. 0. 0. 0. 0. 0. 0. 0. 0. 0. 0.]\n",
      " [0. 0. 0. 0. 0. 0. 0. 0. 0. 0. 0. 0. 0. 0. 0. 0.]\n",
      " [0. 0. 0. 0. 0. 0. 0. 0. 0. 0. 0. 0. 0. 0. 0. 0.]\n",
      " [0. 0. 0. 0. 0. 0. 0. 0. 0. 0. 0. 0. 0. 0. 0. 0.]\n",
      " [0. 0. 0. 0. 0. 0. 0. 0. 0. 0. 0. 0. 0. 0. 0. 0.]\n",
      " [0. 0. 0. 0. 0. 0. 0. 0. 0. 0. 0. 0. 0. 0. 0. 0.]\n",
      " [0. 0. 0. 0. 0. 0. 0. 0. 0. 0. 0. 0. 0. 0. 0. 0.]\n",
      " [0. 0. 0. 0. 0. 0. 0. 0. 0. 0. 0. 0. 0. 0. 0. 0.]\n",
      " [0. 0. 0. 0. 0. 0. 0. 0. 0. 0. 0. 0. 0. 0. 0. 0.]\n",
      " [0. 0. 0. 0. 0. 0. 0. 0. 0. 0. 0. 0. 0. 0. 0. 0.]\n",
      " [0. 0. 0. 0. 0. 0. 0. 0. 0. 0. 0. 0. 0. 0. 0. 0.]\n",
      " [0. 0. 0. 0. 0. 0. 0. 0. 0. 0. 0. 0. 0. 0. 0. 0.]\n",
      " [0. 0. 0. 0. 0. 0. 0. 0. 0. 0. 0. 0. 0. 0. 0. 0.]\n",
      " [0. 0. 0. 0. 0. 0. 0. 0. 0. 0. 0. 0. 0. 0. 0. 0.]\n",
      " [0. 0. 0. 0. 0. 0. 0. 0. 0. 0. 0. 0. 0. 0. 0. 0.]\n",
      " [0. 0. 0. 0. 0. 0. 0. 0. 0. 0. 0. 0. 0. 0. 0. 0.]\n",
      " [0. 0. 0. 0. 0. 0. 0. 0. 0. 0. 0. 0. 0. 0. 0. 0.]\n",
      " [0. 0. 0. 0. 0. 0. 0. 0. 0. 0. 0. 0. 0. 0. 0. 0.]\n",
      " [0. 0. 0. 0. 0. 0. 0. 0. 0. 0. 0. 0. 0. 0. 0. 0.]\n",
      " [0. 0. 0. 0. 0. 0. 0. 0. 0. 0. 0. 0. 0. 0. 0. 0.]\n",
      " [0. 0. 0. 0. 0. 0. 0. 0. 0. 0. 0. 0. 0. 0. 0. 0.]\n",
      " [0. 0. 0. 0. 0. 0. 0. 0. 0. 0. 0. 0. 0. 0. 0. 0.]\n",
      " [0. 0. 0. 0. 0. 0. 0. 0. 0. 0. 0. 0. 0. 0. 0. 0.]\n",
      " [0. 0. 0. 0. 0. 0. 0. 0. 0. 0. 0. 0. 0. 0. 0. 0.]\n",
      " [0. 0. 0. 0. 0. 0. 0. 0. 0. 0. 0. 0. 0. 0. 0. 0.]\n",
      " [0. 0. 0. 0. 0. 0. 0. 0. 0. 0. 0. 0. 0. 0. 0. 0.]\n",
      " [0. 0. 0. 0. 0. 0. 0. 0. 0. 0. 0. 0. 0. 0. 0. 0.]]\n"
     ]
    }
   ],
   "source": [
    "print(data_mce[0,:,:])\n",
    "\n"
   ]
  },
  {
   "cell_type": "code",
   "execution_count": 41,
   "id": "cd11e082-5998-4de9-bb26-1ec6059aaa1e",
   "metadata": {
    "tags": []
   },
   "outputs": [],
   "source": [
    "labels = np.load(\"data_processed/labels.npy\")"
   ]
  },
  {
   "cell_type": "code",
   "execution_count": 43,
   "id": "95703fdd-50c0-47b8-90a0-2e9db0658029",
   "metadata": {},
   "outputs": [
    {
     "name": "stdout",
     "output_type": "stream",
     "text": [
      "(30502,)\n"
     ]
    }
   ],
   "source": [
    "print(labels.shape)"
   ]
  },
  {
   "cell_type": "code",
   "execution_count": null,
   "id": "a6836831-ebe6-4ea6-9073-19f2ed772163",
   "metadata": {},
   "outputs": [],
   "source": [
    "## 使用trouble_tickets标签"
   ]
  },
  {
   "cell_type": "code",
   "execution_count": 99,
   "id": "fb9ce5e0-5fa5-4d10-8106-3244fc4f7c25",
   "metadata": {},
   "outputs": [
    {
     "name": "stdout",
     "output_type": "stream",
     "text": [
      "               sid  failure_type          failed_time\n",
      "0     Server_10003             2  0001-07-17 11:11:07\n",
      "1     Server_10034             3  0001-08-11 07:35:07\n",
      "2     Server_10074             3  0001-08-11 07:37:47\n",
      "3     Server_10108             2  0001-07-13 03:51:43\n",
      "4     Server_10152             2  0001-06-14 10:23:07\n",
      "...            ...           ...                  ...\n",
      "3012   Server_9912             3  0001-07-01 13:08:24\n",
      "3013   Server_9942             3  0001-08-14 11:03:11\n",
      "3014   Server_9944             3  0001-05-29 23:21:03\n",
      "3015    Server_997             3  0001-02-25 01:30:02\n",
      "3016    Server_998             3  0001-05-08 15:30:25\n",
      "\n",
      "[3017 rows x 3 columns]\n"
     ]
    }
   ],
   "source": [
    "## 读取trouble_tickets\n",
    "data_csv = pd.read_csv(\"./failure_prediction/data_raw/trouble_tickets.csv\")\n",
    "print(data_csv)"
   ]
  },
  {
   "cell_type": "code",
   "execution_count": 101,
   "id": "8985dffd-bec1-4b4e-8059-47bf410eacbb",
   "metadata": {},
   "outputs": [
    {
     "name": "stdout",
     "output_type": "stream",
     "text": [
      "0       Server_10003\n",
      "1       Server_10034\n",
      "2       Server_10074\n",
      "3       Server_10108\n",
      "4       Server_10152\n",
      "            ...     \n",
      "3012     Server_9912\n",
      "3013     Server_9942\n",
      "3014     Server_9944\n",
      "3015      Server_997\n",
      "3016      Server_998\n",
      "Name: sid, Length: 3017, dtype: object\n"
     ]
    }
   ],
   "source": [
    "Server_id = data_csv[\"sid\"]\n",
    "print(Server_id)"
   ]
  },
  {
   "cell_type": "code",
   "execution_count": 102,
   "id": "0e60cb9b-1bdf-4333-8518-32ca9834d502",
   "metadata": {},
   "outputs": [
    {
     "name": "stdout",
     "output_type": "stream",
     "text": [
      "0       10003\n",
      "1       10034\n",
      "2       10074\n",
      "3       10108\n",
      "4       10152\n",
      "        ...  \n",
      "3012     9912\n",
      "3013     9942\n",
      "3014     9944\n",
      "3015      997\n",
      "3016      998\n",
      "Name: sid, Length: 3017, dtype: object\n"
     ]
    }
   ],
   "source": [
    "cleaned_id = Server_id.str.replace('Server_', '')  \n",
    "print(cleaned_id)"
   ]
  },
  {
   "cell_type": "code",
   "execution_count": 103,
   "id": "1fab0ec9-12cc-4220-81d0-a972ac15e951",
   "metadata": {},
   "outputs": [],
   "source": [
    "id2 = np.array(cleaned_id).astype(int)"
   ]
  },
  {
   "cell_type": "code",
   "execution_count": 114,
   "id": "19fc93ab-7196-4280-8706-865cfd2f0c63",
   "metadata": {
    "tags": []
   },
   "outputs": [
    {
     "data": {
      "text/plain": [
       "31380"
      ]
     },
     "execution_count": 114,
     "metadata": {},
     "output_type": "execute_result"
    }
   ],
   "source": [
    "id2[2547]"
   ]
  },
  {
   "cell_type": "code",
   "execution_count": 115,
   "id": "12701cdb-5ebc-4ed5-b5eb-0a1743e65a93",
   "metadata": {
    "tags": []
   },
   "outputs": [
    {
     "name": "stdout",
     "output_type": "stream",
     "text": [
      "2139\n"
     ]
    }
   ],
   "source": [
    "id3 = id2[id2<30502]\n",
    "print(len(id3))"
   ]
  },
  {
   "cell_type": "code",
   "execution_count": 72,
   "id": "97f95768-044e-42f1-8fba-69267cf25c24",
   "metadata": {},
   "outputs": [],
   "source": [
    "# 创建一个空数组，在id3的位置设成1\n",
    "labels = np.zeros(30502)\n",
    "labels[id3-1] = 1 # 第0个位置对应的server_1 依次类推"
   ]
  },
  {
   "cell_type": "code",
   "execution_count": 73,
   "id": "3cb594e8-79ad-4036-b508-2b3e5030889f",
   "metadata": {
    "tags": []
   },
   "outputs": [
    {
     "name": "stdout",
     "output_type": "stream",
     "text": [
      "30502\n"
     ]
    }
   ],
   "source": [
    "print(len(labels))"
   ]
  },
  {
   "cell_type": "code",
   "execution_count": 79,
   "id": "d09e73d3-89f9-4656-9479-a1d6b0bcdb15",
   "metadata": {},
   "outputs": [],
   "source": [
    "np.save(\"labels.npy\", labels)"
   ]
  },
  {
   "cell_type": "code",
   "execution_count": 87,
   "id": "03507cb4-2b62-4663-85b1-bdbac93c0637",
   "metadata": {},
   "outputs": [
    {
     "name": "stdout",
     "output_type": "stream",
     "text": [
      "2139.0\n"
     ]
    }
   ],
   "source": [
    "print(sum(labels))"
   ]
  },
  {
   "cell_type": "code",
   "execution_count": 91,
   "id": "44107e9c-b0c5-4957-b290-dac969dfef07",
   "metadata": {
    "tags": []
   },
   "outputs": [
    {
     "data": {
      "text/plain": [
       "0.0"
      ]
     },
     "execution_count": 91,
     "metadata": {},
     "output_type": "execute_result"
    }
   ],
   "source": [
    "labels[10034]"
   ]
  },
  {
   "cell_type": "code",
   "execution_count": 96,
   "id": "67cb3507-bab9-405d-b573-07315f021904",
   "metadata": {},
   "outputs": [],
   "source": [
    "lables = np.load(\"./failure_prediction/data_processed/labels.npy\")"
   ]
  },
  {
   "cell_type": "code",
   "execution_count": 97,
   "id": "3acb6134-20fe-469c-9937-52337419fabd",
   "metadata": {
    "tags": []
   },
   "outputs": [
    {
     "name": "stdout",
     "output_type": "stream",
     "text": [
      "2139.0\n"
     ]
    }
   ],
   "source": [
    "print(sum(lables))"
   ]
  },
  {
   "cell_type": "code",
   "execution_count": null,
   "id": "3d54d31b-d29d-437c-b498-7a922cf89e77",
   "metadata": {},
   "outputs": [],
   "source": []
  }
 ],
 "metadata": {
  "kernelspec": {
   "display_name": "dram-py310",
   "language": "python",
   "name": "dram-py310"
  },
  "language_info": {
   "codemirror_mode": {
    "name": "ipython",
    "version": 3
   },
   "file_extension": ".py",
   "mimetype": "text/x-python",
   "name": "python",
   "nbconvert_exporter": "python",
   "pygments_lexer": "ipython3",
   "version": "3.10.12"
  }
 },
 "nbformat": 4,
 "nbformat_minor": 5
}
